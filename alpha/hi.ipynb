{
 "cells": [
  {
   "cell_type": "code",
   "execution_count": 1,
   "metadata": {},
   "outputs": [
    {
     "name": "stderr",
     "output_type": "stream",
     "text": [
      "c:\\Users\\dy\\AppData\\Local\\Programs\\Python\\Python310\\lib\\site-packages\\requests\\__init__.py:102: RequestsDependencyWarning: urllib3 (1.26.9) or chardet (5.0.0)/charset_normalizer (2.0.12) doesn't match a supported version!\n",
      "  warnings.warn(\"urllib3 ({}) or chardet ({})/charset_normalizer ({}) doesn't match a supported \"\n"
     ]
    },
    {
     "ename": "IndexError",
     "evalue": "list index out of range",
     "output_type": "error",
     "traceback": [
      "\u001b[1;31m---------------------------------------------------------------------------\u001b[0m",
      "\u001b[1;31mIndexError\u001b[0m                                Traceback (most recent call last)",
      "\u001b[1;32mc:\\Users\\dy\\Default\\ansel\\Desktop\\dy\\1.computer_science\\cs_knowledge\\python\\alpha\\hi.ipynb Cell 1\u001b[0m in \u001b[0;36m<cell line: 36>\u001b[1;34m()\u001b[0m\n\u001b[0;32m     <a href='vscode-notebook-cell:/c%3A/Users/dy/Default/ansel/Desktop/dy/1.computer_science/cs_knowledge/python/alpha/hi.ipynb#W0sZmlsZQ%3D%3D?line=33'>34</a>\u001b[0m soup \u001b[39m=\u001b[39m BeautifulSoup(response\u001b[39m.\u001b[39mcontent, \u001b[39m'\u001b[39m\u001b[39mhtml.parser\u001b[39m\u001b[39m'\u001b[39m)\n\u001b[0;32m     <a href='vscode-notebook-cell:/c%3A/Users/dy/Default/ansel/Desktop/dy/1.computer_science/cs_knowledge/python/alpha/hi.ipynb#W0sZmlsZQ%3D%3D?line=34'>35</a>\u001b[0m report_links \u001b[39m=\u001b[39m soup\u001b[39m.\u001b[39mfind_all(\u001b[39m'\u001b[39m\u001b[39ma\u001b[39m\u001b[39m'\u001b[39m, {\u001b[39m'\u001b[39m\u001b[39mclass\u001b[39m\u001b[39m'\u001b[39m: \u001b[39m'\u001b[39m\u001b[39mbtn_down\u001b[39m\u001b[39m'\u001b[39m})\n\u001b[1;32m---> <a href='vscode-notebook-cell:/c%3A/Users/dy/Default/ansel/Desktop/dy/1.computer_science/cs_knowledge/python/alpha/hi.ipynb#W0sZmlsZQ%3D%3D?line=35'>36</a>\u001b[0m latest_report_link \u001b[39m=\u001b[39m report_links[\u001b[39m0\u001b[39;49m][\u001b[39m'\u001b[39m\u001b[39mhref\u001b[39m\u001b[39m'\u001b[39m]\n\u001b[0;32m     <a href='vscode-notebook-cell:/c%3A/Users/dy/Default/ansel/Desktop/dy/1.computer_science/cs_knowledge/python/alpha/hi.ipynb#W0sZmlsZQ%3D%3D?line=37'>38</a>\u001b[0m \u001b[39m# Download the financial statement\u001b[39;00m\n\u001b[0;32m     <a href='vscode-notebook-cell:/c%3A/Users/dy/Default/ansel/Desktop/dy/1.computer_science/cs_knowledge/python/alpha/hi.ipynb#W0sZmlsZQ%3D%3D?line=38'>39</a>\u001b[0m report_url \u001b[39m=\u001b[39m \u001b[39m'\u001b[39m\u001b[39mhttps://dart.fss.or.kr\u001b[39m\u001b[39m'\u001b[39m \u001b[39m+\u001b[39m latest_report_link\n",
      "\u001b[1;31mIndexError\u001b[0m: list index out of range"
     ]
    }
   ],
   "source": [
    "import requests\n",
    "from bs4 import BeautifulSoup\n",
    "\n",
    "# URL of the search page on DART\n",
    "url = 'https://dart.fss.or.kr/dsab001/search.ax'\n",
    "\n",
    "# Define search parameters for Samsung Electronics Co., Ltd.\n",
    "params = {\n",
    "    'currentPage': 1,\n",
    "    'maxResults': 10,\n",
    "    'maxLinks': 10,\n",
    "    'sort': 'date',\n",
    "    'series': 'desc',\n",
    "    'textCrpNm': '삼성전자',\n",
    "    'finalReport': 'recent',\n",
    "    'startDate': '',\n",
    "    'endDate': '',\n",
    "    'publicType': '',\n",
    "    'publicTypeList': '',\n",
    "    'includeNoReg': 'Y',\n",
    "    'includeText': 'Y',\n",
    "    'selDate': '1',\n",
    "    'sectionId': '8',\n",
    "    'searchKey': 'all',\n",
    "    'keyword': '',\n",
    "    'x': 0,\n",
    "    'y': 0,\n",
    "}\n",
    "\n",
    "# Send a POST request to the search page with the search parameters\n",
    "response = requests.post(url, params)\n",
    "\n",
    "# Extract the link to the latest financial statement for Samsung Electronics Co., Ltd.\n",
    "soup = BeautifulSoup(response.content, 'html.parser')\n",
    "report_links = soup.find_all('a', {'class': 'btn_down'})\n",
    "latest_report_link = report_links[0]['href']\n",
    "\n",
    "# Download the financial statement\n",
    "report_url = 'https://dart.fss.or.kr' + latest_report_link\n",
    "report_response = requests.get(report_url)\n",
    "\n",
    "# Parse the financial statement\n",
    "report_soup = BeautifulSoup(report_response.content, 'html.parser')\n",
    "tables = report_soup.find_all('table')\n",
    "\n",
    "# Extract the balance sheet\n",
    "balance_sheet_table = tables[0]\n",
    "balance_sheet_rows = balance_sheet_table.find_all('tr')\n",
    "for row in balance_sheet_rows:\n",
    "    columns = row.find_all('td')\n",
    "    for column in columns:\n",
    "        print(column.text)"
   ]
  }
 ],
 "metadata": {
  "kernelspec": {
   "display_name": "Python 3",
   "language": "python",
   "name": "python3"
  },
  "language_info": {
   "codemirror_mode": {
    "name": "ipython",
    "version": 3
   },
   "file_extension": ".py",
   "mimetype": "text/x-python",
   "name": "python",
   "nbconvert_exporter": "python",
   "pygments_lexer": "ipython3",
   "version": "3.10.0"
  },
  "orig_nbformat": 4,
  "vscode": {
   "interpreter": {
    "hash": "4889f6b7e88051642b0063f87be6ae020a287b021416febcbfe89d4183b1cbca"
   }
  }
 },
 "nbformat": 4,
 "nbformat_minor": 2
}
