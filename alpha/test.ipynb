import requests
from bs4 import BeautifulSoup

# URL of the search page on DART
url = 'https://dart.fss.or.kr/dsab001/search.ax'

# Define search parameters for Samsung Electronics Co., Ltd.
params = {
    'currentPage': 1,
    'maxResults': 10,
    'maxLinks': 10,
    'sort': 'date',
    'series': 'desc',
    'textCrpNm': '삼성전자',
    'finalReport': 'recent',
    'startDate': '',
    'endDate': '',
    'publicType': '',
    'publicTypeList': '',
    'includeNoReg': 'Y',
    'includeText': 'Y',
    'selDate': '1',
    'sectionId': '8',
    'searchKey': 'all',
    'keyword': '',
    'x': 0,
    'y': 0,
}

# Send a POST request to the search page with the search parameters
response = requests.post(url, params)

# Extract the link to the latest financial statement for Samsung Electronics Co., Ltd.
soup = BeautifulSoup(response.content, 'html.parser')
report_links = soup.find_all('a', {'class': 'btn_down'})
latest_report_link = report_links[0]['href']

# Download the financial statement
report_url = 'https://dart.fss.or.kr' + latest_report_link
report_response = requests.get(report_url)

# Parse the financial statement
report_soup = BeautifulSoup(report_response.content, 'html.parser')
tables = report_soup.find_all('table')

# Extract the balance sheet
balance_sheet_table = tables[0]
balance_sheet_rows = balance_sheet_table.find_all('tr')
for row in balance_sheet_rows:
    columns = row.find_all('td')
    for column in columns:
        print(column.text)