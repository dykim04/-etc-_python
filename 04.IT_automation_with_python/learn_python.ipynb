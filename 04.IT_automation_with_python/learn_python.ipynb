{
 "cells": [
  {
   "cell_type": "code",
   "execution_count": null,
   "metadata": {},
   "outputs": [],
   "source": [
    "import sys"
   ]
  },
  {
   "cell_type": "code",
   "execution_count": null,
   "metadata": {},
   "outputs": [],
   "source": [
    "max_size = sys.maxsize\n",
    "print(max_size)"
   ]
  },
  {
   "cell_type": "code",
   "execution_count": null,
   "metadata": {},
   "outputs": [],
   "source": [
    "print(2**2)"
   ]
  },
  {
   "cell_type": "code",
   "execution_count": null,
   "metadata": {},
   "outputs": [],
   "source": [
    "# Fill in the blanks so that the while loop continues to run while the\n",
    "# \"divisor\" variable is less than the \"number\" parameter.\n",
    "\n",
    "def sum_divisors(number):\n",
    "    sum = 0\n",
    "    n = 1\n",
    "    if (number == 0):\n",
    "        return (0)\n",
    "    while (1):\n",
    "        if (n == number):\n",
    "            return (sum)\n",
    "            break\n",
    "        if ((number % n) == 0):\n",
    "            sum = sum + n\n",
    "        n = n + 1\n",
    "\n",
    "print(sum_divisors(0)) # Should print 0\n",
    "print(sum_divisors(3)) # Should print 1\n",
    "# 1\n",
    "print(sum_divisors(36)) # Should print 1+2+3+4+6+9+12+18\n",
    "# 55\n",
    "print(sum_divisors(102)) # Should print 1+2+3+6+17+34+51\n",
    "# 114\n"
   ]
  },
  {
   "cell_type": "code",
   "execution_count": null,
   "metadata": {},
   "outputs": [],
   "source": [
    "def multiplication_table(number):\n",
    "    res = 0\n",
    "    i = 1\n",
    "    while (i <= 5):\n",
    "        res = number * i\n",
    "        if (res > 25):\n",
    "            break\n",
    "        print(str(number) + \"x\" + str(i) + \"=\" + str(res))\n",
    "        i += 1\n",
    "\n",
    "multiplication_table(3) \n",
    "# Should print: \n",
    "# 3x1=3 \n",
    "# 3x2=6 \n",
    "# 3x3=9 \n",
    "# 3x4=12 \n",
    "# 3x5=15\n",
    "\n",
    "multiplication_table(5) \n",
    "# Should print: \n",
    "# 5x1=5\n",
    "# 5x2=10\n",
    "# 5x3=15\n",
    "# 5x4=20\n",
    "# 5x5=25\n",
    "\n",
    "multiplication_table(8) \n",
    "# Should print:\n",
    "# 8x1=8\n",
    "# 8x2=16\n",
    "# 8x3=24"
   ]
  },
  {
   "cell_type": "code",
   "execution_count": null,
   "metadata": {},
   "outputs": [],
   "source": [
    "# Fill in the blanks so that the while loop continues to run while the\n",
    "# \"divisor\" variable is less than the \"number\" parameter.\n",
    "\n",
    "def sum_divisors(number):\n",
    "    sum = 0\n",
    "    n = 1\n",
    "    if (number == 0):\n",
    "        return (0)\n",
    "    while (1):\n",
    "        if (n == number):\n",
    "            return (sum)\n",
    "            break\n",
    "        if ((number % n) == 0):\n",
    "            sum = sum + n\n",
    "        n = n + 1\n",
    "\n",
    "print(sum_divisors(0)) # Should print 0\n",
    "print(sum_divisors(3)) # Should print 1\n",
    "# 1\n",
    "print(sum_divisors(36)) # Should print 1+2+3+4+6+9+12+18\n",
    "# 55\n",
    "print(sum_divisors(102)) # Should print 1+2+3+6+17+34+51\n",
    "# 114\n"
   ]
  },
  {
   "cell_type": "code",
   "execution_count": null,
   "metadata": {},
   "outputs": [],
   "source": [
    "def is_power_of(number, base):\n",
    "    if (number == 0):\n",
    "        return (False)\n",
    "    if (number == 1):\n",
    "        return True\n",
    "    else:\n",
    "        return (is_power_of(number // base, base))\n",
    "\n",
    "print(is_power_of(8,2)) # Should be True\n",
    "print(is_power_of(64,4)) # Should be True\n",
    "print(is_power_of(70,10)) # Should be False"
   ]
  },
  {
   "cell_type": "code",
   "execution_count": null,
   "metadata": {},
   "outputs": [],
   "source": [
    "def sum_positive_numbers(n):\n",
    "    if (n == 0):\n",
    "        return (0)\n",
    "    else:\n",
    "        return (n + sum_positive_numbers(n - 1))\n",
    "\n",
    "print(sum_positive_numbers(3)) # Should be 6\n",
    "print(sum_positive_numbers(5)) # Should be 15"
   ]
  },
  {
   "cell_type": "code",
   "execution_count": null,
   "metadata": {},
   "outputs": [],
   "source": [
    "number = 15 # Initialize the variable\n",
    "while (number): # Complete the while loop condition\n",
    "    print(number, end=\" \")\n",
    "    number = number - 5\n",
    "# Should print 15 10 5 "
   ]
  },
  {
   "cell_type": "code",
   "execution_count": null,
   "metadata": {},
   "outputs": [],
   "source": [
    "for number in range(5):\n",
    "    if (number+1) % 2 == 0:\n",
    "        print(\"even\")\n",
    "    else:\n",
    "        print(\"odd\")\n",
    "\n",
    "# Should print:\n",
    "# odd\n",
    "# even\n",
    "# odd\n",
    "# even\n",
    "# odd"
   ]
  },
  {
   "cell_type": "code",
   "execution_count": null,
   "metadata": {},
   "outputs": [],
   "source": [
    "def digits(n):\n",
    "    return (len(str(n)))\n",
    "    \n",
    "print(digits(25))   # Should print 2\n",
    "print(digits(144))  # Should print 3\n",
    "print(digits(1000)) # Should print 4\n",
    "print(digits(0))    # Should print 1"
   ]
  },
  {
   "cell_type": "code",
   "execution_count": null,
   "metadata": {},
   "outputs": [],
   "source": [
    "def digits(n):\n",
    "    count = 0\n",
    "    if n == 0:\n",
    "      count += 1\n",
    "    while (n != 0): # Complete the while loop condition\n",
    "        # Complete the body of the while loop. This should include \n",
    "        # performing a calculation and incrementing a variable in the\n",
    "        # appropriate order.  \n",
    "        n = n //10\n",
    "        count+=1\n",
    "    return count\n",
    "    \n",
    "print(digits(25))   # Should print 2\n",
    "print(digits(144))  # Should print 3\n",
    "print(digits(1000)) # Should print 4\n",
    "print(digits(0))    # Should print 1"
   ]
  },
  {
   "cell_type": "code",
   "execution_count": null,
   "metadata": {},
   "outputs": [],
   "source": [
    "def sequence(low, high):\n",
    "    rotation = 0\n",
    "    while (1):\n",
    "        if (rotation == 2):\n",
    "            break\n",
    "        rotation += 1\n",
    "        diff = high - low + 1\n",
    "        _diff = diff\n",
    "        _high = high\n",
    "        while (_diff != 0):\n",
    "            if (_diff != 1):\n",
    "                print(_high, end = \", \")\n",
    "            if (_diff == 1):\n",
    "                print(_high)\n",
    "            _diff -= 1\n",
    "            _high -= 1\n",
    "\n",
    "sequence(1, 3)\n",
    "# Should print the sequence 3, 2, 1 two times, as shown above."
   ]
  },
  {
   "attachments": {},
   "cell_type": "markdown",
   "metadata": {},
   "source": [
    "#### question 5\n",
    "#### Fill in the blanks to complete the “divisible” function. This function should count the number of values from 0 to the “max” parameter that are evenly divisible (no remainder) by the “divisor” parameter. Complete the code so that a function call like “divisible(100,10)” will return the number “10”."
   ]
  },
  {
   "cell_type": "code",
   "execution_count": null,
   "metadata": {},
   "outputs": [],
   "source": [
    "def divisible(max, divisor):\n",
    "    start = 0\n",
    "    cnt = 0\n",
    "    while (start < max):\n",
    "        if (start % divisor == 0):\n",
    "            cnt = cnt + 1\n",
    "        start = start + 1\n",
    "    return (cnt)\n",
    "\n",
    "print(divisible(100, 10)) # Should be 10\n",
    "print(divisible(10, 3)) # Should be 4\n",
    "print(divisible(144, 17)) # Should be 9"
   ]
  },
  {
   "attachments": {},
   "cell_type": "markdown",
   "metadata": {},
   "source": [
    "#### question 6\n",
    "#### Fill in the blanks to complete the “even_numbers” function. This function should return a space-separated string of all positive even numbers, excluding 0, up to and including the “maximum” variable that's passed into the function. Complete the for loop so that a function call like “even_numbers(6)” will return the numbers “2 4 6”.  "
   ]
  },
  {
   "cell_type": "code",
   "execution_count": null,
   "metadata": {},
   "outputs": [],
   "source": [
    "def even_numbers(maximum):\n",
    "    res = \"\"\n",
    "    offset = 1\n",
    "    while (offset <= maximum):\n",
    "        if (offset % 2 == 0):\n",
    "            res = res + str(offset) + \" \"\n",
    "        offset += 1\n",
    "    res = res.strip()\n",
    "    return (res)\n",
    "\n",
    "print(even_numbers(6))  # Should be 2 4 6\n",
    "print(even_numbers(10)) # Should be 2 4 6 8 10\n",
    "print(even_numbers(1))  # No numbers displayed\n",
    "print(even_numbers(3))  # Should be 2\n",
    "print(even_numbers(0))  # No numbers displayed"
   ]
  },
  {
   "cell_type": "code",
   "execution_count": null,
   "metadata": {},
   "outputs": [],
   "source": [
    "weather = \"rainfall\"\n",
    "print(weather[:4])"
   ]
  },
  {
   "cell_type": "code",
   "execution_count": 15,
   "metadata": {},
   "outputs": [
    {
     "name": "stdout",
     "output_type": "stream",
     "text": [
      "It's raining cats and dogs\n",
      "She sells seashells by the seashore\n",
      "The weather is nice in May\n",
      "The weather is nice in April\n"
     ]
    }
   ],
   "source": [
    "def replace_ending(sentence, old, new):\n",
    "    pieces = sentence.split()\n",
    "    size = len(pieces)\n",
    "    \n",
    "    if (pieces[size - 1] == old):\n",
    "        i = sentence.rindex(old)\n",
    "        return (sentence[:i] + new)\n",
    "    else:\n",
    "        return (sentence)\n",
    "        \n",
    "print(replace_ending(\"It's raining cats and cats\", \"cats\", \"dogs\")) \n",
    "# Should display \"It's raining cats and dogs\"\n",
    "print(replace_ending(\"She sells seashells by the seashore\", \"seashells\", \"donuts\")) \n",
    "# Should display \"She sells seashells by the seashore\"\n",
    "print(replace_ending(\"The weather is nice in May\", \"may\", \"april\")) \n",
    "# Should display \"The weather is nice in May\"\n",
    "print(replace_ending(\"The weather is nice in May\", \"May\", \"April\")) \n",
    "# Should display \"The weather is nice in April\"\n"
   ]
  }
 ],
 "metadata": {
  "kernelspec": {
   "display_name": "Python 3",
   "language": "python",
   "name": "python3"
  },
  "language_info": {
   "codemirror_mode": {
    "name": "ipython",
    "version": 3
   },
   "file_extension": ".py",
   "mimetype": "text/x-python",
   "name": "python",
   "nbconvert_exporter": "python",
   "pygments_lexer": "ipython3",
   "version": "3.10.0"
  },
  "orig_nbformat": 4,
  "vscode": {
   "interpreter": {
    "hash": "4889f6b7e88051642b0063f87be6ae020a287b021416febcbfe89d4183b1cbca"
   }
  }
 },
 "nbformat": 4,
 "nbformat_minor": 2
}
