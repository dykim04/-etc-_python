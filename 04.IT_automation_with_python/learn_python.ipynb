{
 "cells": [
  {
   "cell_type": "code",
   "execution_count": 447,
   "metadata": {},
   "outputs": [
    {
     "name": "stdout",
     "output_type": "stream",
     "text": [
      "0\n",
      "1\n",
      "55\n",
      "114\n"
     ]
    }
   ],
   "source": [
    "# Fill in the blanks so that the while loop continues to run while the\n",
    "# \"divisor\" variable is less than the \"number\" parameter.\n",
    "\n",
    "def sum_divisors(number):\n",
    "    sum = 0\n",
    "    n = 1\n",
    "    if (number == 0):\n",
    "        return (0)\n",
    "    while (1):\n",
    "        if (n == number):\n",
    "            return (sum)\n",
    "            break\n",
    "        if ((number % n) == 0):\n",
    "            sum = sum + n\n",
    "        n = n + 1\n",
    "\n",
    "print(sum_divisors(0)) # Should print 0\n",
    "print(sum_divisors(3)) # Should print 1\n",
    "# 1\n",
    "print(sum_divisors(36)) # Should print 1+2+3+4+6+9+12+18\n",
    "# 55\n",
    "print(sum_divisors(102)) # Should print 1+2+3+6+17+34+51\n",
    "# 114\n"
   ]
  },
  {
   "cell_type": "code",
   "execution_count": 448,
   "metadata": {},
   "outputs": [
    {
     "name": "stdout",
     "output_type": "stream",
     "text": [
      "3x1=3\n",
      "3x2=6\n",
      "3x3=9\n",
      "3x4=12\n",
      "3x5=15\n",
      "5x1=5\n",
      "5x2=10\n",
      "5x3=15\n",
      "5x4=20\n",
      "5x5=25\n",
      "8x1=8\n",
      "8x2=16\n",
      "8x3=24\n"
     ]
    }
   ],
   "source": [
    "def multiplication_table(number):\n",
    "    res = 0\n",
    "    i = 1\n",
    "    while (i <= 5):\n",
    "        res = number * i\n",
    "        if (res > 25):\n",
    "            break\n",
    "        print(str(number) + \"x\" + str(i) + \"=\" + str(res))\n",
    "        i += 1\n",
    "\n",
    "multiplication_table(3) \n",
    "# Should print: \n",
    "# 3x1=3 \n",
    "# 3x2=6 \n",
    "# 3x3=9 \n",
    "# 3x4=12 \n",
    "# 3x5=15\n",
    "\n",
    "multiplication_table(5) \n",
    "# Should print: \n",
    "# 5x1=5\n",
    "# 5x2=10\n",
    "# 5x3=15\n",
    "# 5x4=20\n",
    "# 5x5=25\n",
    "\n",
    "multiplication_table(8) \n",
    "# Should print:\n",
    "# 8x1=8\n",
    "# 8x2=16\n",
    "# 8x3=24"
   ]
  },
  {
   "cell_type": "code",
   "execution_count": 449,
   "metadata": {},
   "outputs": [
    {
     "name": "stdout",
     "output_type": "stream",
     "text": [
      "0\n",
      "1\n",
      "55\n",
      "114\n"
     ]
    }
   ],
   "source": [
    "# Fill in the blanks so that the while loop continues to run while the\n",
    "# \"divisor\" variable is less than the \"number\" parameter.\n",
    "\n",
    "def sum_divisors(number):\n",
    "    sum = 0\n",
    "    n = 1\n",
    "    if (number == 0):\n",
    "        return (0)\n",
    "    while (1):\n",
    "        if (n == number):\n",
    "            return (sum)\n",
    "            break\n",
    "        if ((number % n) == 0):\n",
    "            sum = sum + n\n",
    "        n = n + 1\n",
    "\n",
    "print(sum_divisors(0)) # Should print 0\n",
    "print(sum_divisors(3)) # Should print 1\n",
    "# 1\n",
    "print(sum_divisors(36)) # Should print 1+2+3+4+6+9+12+18\n",
    "# 55\n",
    "print(sum_divisors(102)) # Should print 1+2+3+6+17+34+51\n",
    "# 114\n"
   ]
  },
  {
   "cell_type": "code",
   "execution_count": 450,
   "metadata": {},
   "outputs": [
    {
     "name": "stdout",
     "output_type": "stream",
     "text": [
      "True\n",
      "True\n",
      "False\n"
     ]
    }
   ],
   "source": [
    "def is_power_of(number, base):\n",
    "    if (number == 0):\n",
    "        return (False)\n",
    "    if (number == 1):\n",
    "        return True\n",
    "    else:\n",
    "        return (is_power_of(number // base, base))\n",
    "\n",
    "print(is_power_of(8,2)) # Should be True\n",
    "print(is_power_of(64,4)) # Should be True\n",
    "print(is_power_of(70,10)) # Should be False"
   ]
  },
  {
   "cell_type": "code",
   "execution_count": 451,
   "metadata": {},
   "outputs": [
    {
     "name": "stdout",
     "output_type": "stream",
     "text": [
      "6\n",
      "15\n"
     ]
    }
   ],
   "source": [
    "def sum_positive_numbers(n):\n",
    "    if (n == 0):\n",
    "        return (0)\n",
    "    else:\n",
    "        return (n + sum_positive_numbers(n - 1))\n",
    "\n",
    "print(sum_positive_numbers(3)) # Should be 6\n",
    "print(sum_positive_numbers(5)) # Should be 15"
   ]
  },
  {
   "cell_type": "code",
   "execution_count": 452,
   "metadata": {},
   "outputs": [
    {
     "name": "stdout",
     "output_type": "stream",
     "text": [
      "15 10 5 "
     ]
    }
   ],
   "source": [
    "number = 15 # Initialize the variable\n",
    "while (number): # Complete the while loop condition\n",
    "    print(number, end=\" \")\n",
    "    number = number - 5\n",
    "# Should print 15 10 5 "
   ]
  },
  {
   "cell_type": "code",
   "execution_count": 453,
   "metadata": {},
   "outputs": [
    {
     "name": "stdout",
     "output_type": "stream",
     "text": [
      "odd\n",
      "even\n",
      "odd\n",
      "even\n",
      "odd\n"
     ]
    }
   ],
   "source": [
    "for number in range(5):\n",
    "    if (number+1) % 2 == 0:\n",
    "        print(\"even\")\n",
    "    else:\n",
    "        print(\"odd\")\n",
    "\n",
    "# Should print:\n",
    "# odd\n",
    "# even\n",
    "# odd\n",
    "# even\n",
    "# odd"
   ]
  },
  {
   "cell_type": "code",
   "execution_count": 454,
   "metadata": {},
   "outputs": [
    {
     "name": "stdout",
     "output_type": "stream",
     "text": [
      "2\n",
      "3\n",
      "4\n",
      "1\n"
     ]
    }
   ],
   "source": [
    "def digits(n):\n",
    "    return (len(str(n)))\n",
    "    \n",
    "print(digits(25))   # Should print 2\n",
    "print(digits(144))  # Should print 3\n",
    "print(digits(1000)) # Should print 4\n",
    "print(digits(0))    # Should print 1"
   ]
  },
  {
   "cell_type": "code",
   "execution_count": 455,
   "metadata": {},
   "outputs": [
    {
     "name": "stdout",
     "output_type": "stream",
     "text": [
      "2\n",
      "3\n",
      "4\n",
      "1\n"
     ]
    }
   ],
   "source": [
    "def digits(n):\n",
    "    count = 0\n",
    "    if n == 0:\n",
    "      count += 1\n",
    "    while (n != 0): # Complete the while loop condition\n",
    "        # Complete the body of the while loop. This should include \n",
    "        # performing a calculation and incrementing a variable in the\n",
    "        # appropriate order.  \n",
    "        n = n //10\n",
    "        count+=1\n",
    "    return count\n",
    "    \n",
    "print(digits(25))   # Should print 2\n",
    "print(digits(144))  # Should print 3\n",
    "print(digits(1000)) # Should print 4\n",
    "print(digits(0))    # Should print 1"
   ]
  },
  {
   "cell_type": "code",
   "execution_count": 456,
   "metadata": {},
   "outputs": [
    {
     "name": "stdout",
     "output_type": "stream",
     "text": [
      "3, 2, 1\n",
      "3, 2, 1\n"
     ]
    }
   ],
   "source": [
    "def sequence(low, high):\n",
    "    rotation = 0\n",
    "    while (1):\n",
    "        if (rotation == 2):\n",
    "            break\n",
    "        rotation += 1\n",
    "        diff = high - low + 1\n",
    "        _diff = diff\n",
    "        _high = high\n",
    "        while (_diff != 0):\n",
    "            if (_diff != 1):\n",
    "                print(_high, end = \", \")\n",
    "            if (_diff == 1):\n",
    "                print(_high)\n",
    "            _diff -= 1\n",
    "            _high -= 1\n",
    "\n",
    "sequence(1, 3)\n",
    "# Should print the sequence 3, 2, 1 two times, as shown above."
   ]
  },
  {
   "cell_type": "code",
   "execution_count": 457,
   "metadata": {},
   "outputs": [
    {
     "name": "stdout",
     "output_type": "stream",
     "text": [
      "10\n",
      "4\n",
      "9\n"
     ]
    }
   ],
   "source": [
    "def divisible(max, divisor):\n",
    "    start = 0\n",
    "    cnt = 0\n",
    "    while (start < max):\n",
    "        if (start % divisor == 0):\n",
    "            cnt = cnt + 1\n",
    "        start = start + 1\n",
    "    return (cnt)\n",
    "\n",
    "print(divisible(100, 10)) # Should be 10\n",
    "print(divisible(10, 3)) # Should be 4\n",
    "print(divisible(144, 17)) # Should be 9"
   ]
  },
  {
   "cell_type": "code",
   "execution_count": 458,
   "metadata": {},
   "outputs": [
    {
     "name": "stdout",
     "output_type": "stream",
     "text": [
      "2 4 6\n",
      "2 4 6 8 10\n",
      "\n",
      "2\n",
      "\n"
     ]
    }
   ],
   "source": [
    "def even_numbers(maximum):\n",
    "    res = \"\"\n",
    "    offset = 1\n",
    "    while (offset <= maximum):\n",
    "        if (offset % 2 == 0):\n",
    "            res = res + str(offset) + \" \"\n",
    "        offset += 1\n",
    "    res = res.strip()\n",
    "    return (res)\n",
    "\n",
    "print(even_numbers(6))  # Should be 2 4 6\n",
    "print(even_numbers(10)) # Should be 2 4 6 8 10\n",
    "print(even_numbers(1))  # No numbers displayed\n",
    "print(even_numbers(3))  # Should be 2\n",
    "print(even_numbers(0))  # No numbers displayed"
   ]
  },
  {
   "cell_type": "code",
   "execution_count": 459,
   "metadata": {},
   "outputs": [
    {
     "name": "stdout",
     "output_type": "stream",
     "text": [
      "rain\n"
     ]
    }
   ],
   "source": [
    "weather = \"rainfall\"\n",
    "print(weather[:4])"
   ]
  },
  {
   "cell_type": "code",
   "execution_count": 460,
   "metadata": {},
   "outputs": [
    {
     "name": "stdout",
     "output_type": "stream",
     "text": [
      "It's raining cats and dogs\n",
      "She sells seashells by the seashore\n",
      "The weather is nice in May\n",
      "The weather is nice in April\n"
     ]
    }
   ],
   "source": [
    "def replace_ending(sentence, old, new):\n",
    "    pieces = sentence.split()\n",
    "    size = len(pieces)\n",
    "    \n",
    "    if (pieces[size - 1] == old):\n",
    "        i = sentence.rindex(old)\n",
    "        return (sentence[:i] + new)\n",
    "    else:\n",
    "        return (sentence)\n",
    "        \n",
    "print(replace_ending(\"It's raining cats and cats\", \"cats\", \"dogs\")) \n",
    "# Should display \"It's raining cats and dogs\"\n",
    "print(replace_ending(\"She sells seashells by the seashore\", \"seashells\", \"donuts\")) \n",
    "# Should display \"She sells seashells by the seashore\"\n",
    "print(replace_ending(\"The weather is nice in May\", \"may\", \"april\")) \n",
    "# Should display \"The weather is nice in May\"\n",
    "print(replace_ending(\"The weather is nice in May\", \"May\", \"April\")) \n",
    "# Should display \"The weather is nice in April\"\n"
   ]
  },
  {
   "cell_type": "code",
   "execution_count": 461,
   "metadata": {},
   "outputs": [
    {
     "name": "stdout",
     "output_type": "stream",
     "text": [
      "['program.c', 'stdio.h', 'sample.h', 'a.out', 'math.h', 'hpp.out']\n"
     ]
    }
   ],
   "source": [
    "filenames = [\"program.c\", \"stdio.hpp\", \"sample.hpp\", \"a.out\", \"math.hpp\", \"hpp.out\"]\n",
    "# Generate newfilenames as a list containing the new filenames\n",
    "# using as many lines of code as your chosen method requires.\n",
    "\n",
    "newfilenames = []\n",
    "\n",
    "rotation = 0\n",
    "while (rotation < len(filenames)):\n",
    "    string = \"\"\n",
    "    program_name = filenames[rotation].split(\".\")[0]\n",
    "    file_type = filenames[rotation].split(\".\")[1]\n",
    "    if (file_type == \"hpp\"):\n",
    "        file_type = \"h\"\n",
    "    string = program_name + \".\" + file_type\n",
    "    newfilenames.append(string)\n",
    "    rotation += 1\n",
    "\n",
    "print(newfilenames) \n",
    "# Should be [\"program.c\", \"stdio.h\", \"sample.h\", \"a.out\", \"math.h\", \"hpp.out\"]"
   ]
  },
  {
   "cell_type": "code",
   "execution_count": 462,
   "metadata": {},
   "outputs": [
    {
     "name": "stdout",
     "output_type": "stream",
     "text": [
      "ellohay owhay reaay ouyay\n",
      "rogrammingpay niay ythonpay siay unfay\n"
     ]
    }
   ],
   "source": [
    "def pig_latin(str):\n",
    "    lst = []\n",
    "    lst = str.split(\" \")\n",
    "    # print(lst)\n",
    "    element = \"\"\n",
    "    _str = \"\"\n",
    "    for i in range (len(lst)):\n",
    "        element = lst[i]\n",
    "        element = lst[i][1:] + lst[i][0] + \"ay\"\n",
    "        lst[i] = element\n",
    "    \n",
    "    for i in range (len(lst)):\n",
    "        if (i == len(lst) - 1):\n",
    "            _str += lst[i]\n",
    "        else:\n",
    "            _str += lst[i] + \" \"\n",
    "    return (_str)\n",
    "\n",
    "print(pig_latin(\"hello how are you\")) # Should be \"ellohay owhay reaay ouyay\"\n",
    "print(pig_latin(\"programming in python is fun\")) # Should be \"rogrammingpay niay ythonpay siay unfay\""
   ]
  },
  {
   "cell_type": "code",
   "execution_count": 463,
   "metadata": {},
   "outputs": [],
   "source": [
    "# def octal_to_string(octal):\n",
    "#     result = \"\"\n",
    "#     value_letters = [(4,\"r\"),(2,\"w\"),(1,\"x\")]\n",
    "#     # Iterate over each of the digits in octal\n",
    "#     for ___ in [int(n) for n in str(octal)]:\n",
    "#         # Check for each of the permissions values\n",
    "#         for value, letter in value_letters:\n",
    "#             if ___ >= value:\n",
    "#                 result += ___\n",
    "#                 ___ -= value\n",
    "#             else:\n",
    "#                 ___\n",
    "#     return result\n",
    "    \n",
    "# print(octal_to_string(755)) # Should be rwxr-xr-x\n",
    "# print(octal_to_string(644)) # Should be rw-r--r--\n",
    "# print(octal_to_string(750)) # Should be rwxr-x---\n",
    "# print(octal_to_string(600)) # Should be rw-------"
   ]
  },
  {
   "cell_type": "code",
   "execution_count": 464,
   "metadata": {},
   "outputs": [
    {
     "name": "stdout",
     "output_type": "stream",
     "text": [
      "rwxr-xr-x\n",
      "rw-r--r--\n",
      "rwxr-x---\n",
      "rw-------\n"
     ]
    }
   ],
   "source": [
    "def octal_to_string(octal):\n",
    "    res = \"\"\n",
    "    possibilities = [\n",
    "        ('7', \"rwx\"),\n",
    "        ('6', \"rw-\"),\n",
    "        ('5', \"r-x\"),\n",
    "        ('4', \"r--\"),\n",
    "        ('3', \"-wx\"),\n",
    "        ('2', \"-w-\"),\n",
    "        ('1', \"--x\"),\n",
    "        ('0', \"---\")\n",
    "        ]\n",
    "    dictionary = dict(possibilities)\n",
    "    for i in range (len(str(octal))):\n",
    "        res = res + (dictionary[str(octal)[i]])\n",
    "    return (res)     \n",
    "   \n",
    "print(octal_to_string(755)) # Should be rwxr-xr-x\n",
    "print(octal_to_string(644)) # Should be rw-r--r--\n",
    "print(octal_to_string(750)) # Should be rwxr-x---\n",
    "print(octal_to_string(600)) # Should be rw-------"
   ]
  },
  {
   "cell_type": "code",
   "execution_count": 465,
   "metadata": {},
   "outputs": [
    {
     "name": "stdout",
     "output_type": "stream",
     "text": [
      "Marketing: Mike, Karen, Jake, Tasha\n",
      "Engineering: Kim, Jay, Tom\n",
      "Users:\n"
     ]
    }
   ],
   "source": [
    "def group_list(group, users):\n",
    "    res = \"\" + group + \": \"\n",
    "    for i in range(len(users)):\n",
    "        res = res + (users[i])\n",
    "        if (i != len(users) - 1):\n",
    "            res = res + \", \"\n",
    "    res = res.strip()\n",
    "    return (res)\n",
    "\n",
    "print(group_list(\"Marketing\", [\"Mike\", \"Karen\", \"Jake\", \"Tasha\"])) # Should be \"Marketing: Mike, Karen, Jake, Tasha\"\n",
    "print(group_list(\"Engineering\", [\"Kim\", \"Jay\", \"Tom\"])) # Should be \"Engineering: Kim, Jay, Tom\"\n",
    "print(group_list(\"Users\", \"\")) # Should be \"Users:\""
   ]
  },
  {
   "cell_type": "code",
   "execution_count": 466,
   "metadata": {},
   "outputs": [
    {
     "name": "stdout",
     "output_type": "stream",
     "text": [
      "Ken is 30 years old and works as Chef\n",
      "Pat is 35 years old and works as Lawyer\n",
      "Amanda is 25 years old and works as Engineer\n"
     ]
    }
   ],
   "source": [
    "def guest_list(guests):\n",
    "    i = 0\n",
    "    for i in range  (len(guests)):\n",
    "        print (guests[i][0] + \" is \" + str(guests[i][1]) + \" years old and works as \" + guests[i][2])\n",
    "           \n",
    "\n",
    "guest_list([('Ken', 30, \"Chef\"), (\"Pat\", 35, 'Lawyer'), ('Amanda', 25, \"Engineer\")])\n",
    "\n",
    "#Click Run to submit code\n",
    "# \"\"\"\n",
    "\n",
    "\n",
    "# Output should match:\n",
    "# Ken is 30 years old and works as Chef\n",
    "# Pat is 35 years old and works as Lawyer\n",
    "# Amanda is 25 years old and works as Engineer\n",
    "# \"\"\""
   ]
  },
  {
   "cell_type": "code",
   "execution_count": 479,
   "metadata": {},
   "outputs": [
    {
     "name": "stdout",
     "output_type": "stream",
     "text": [
      "['clark.kent@gmail.com', 'diana.prince@gmail.com', 'peter.parker@gmail.com', 'barbara.gordon@yahoo.com', 'jean.grey@yahoo.com', 'bruce.wayne@hotmail.com']\n"
     ]
    }
   ],
   "source": [
    "def email_list(domains):\n",
    "    emails = []\n",
    "    string = \"\"\n",
    "    for key in ((domains.keys())):\n",
    "        idx = 0\n",
    "        while (idx < len(domains[key])):\n",
    "            string = domains[key][idx] + \"@\" + key\n",
    "            emails.append(string)\n",
    "            idx += 1\n",
    "    return(emails)\n",
    "\n",
    "print(email_list({\"gmail.com\": [\"clark.kent\", \"diana.prince\", \"peter.parker\"], \"yahoo.com\": [\"barbara.gordon\", \"jean.grey\"], \"hotmail.com\": [\"bruce.wayne\"]}))"
   ]
  },
  {
   "cell_type": "code",
   "execution_count": 468,
   "metadata": {},
   "outputs": [
    {
     "name": "stdout",
     "output_type": "stream",
     "text": [
      "{'admin': ['local', 'public', 'administrator'], 'userA': ['local'], 'userB': ['public']}\n"
     ]
    }
   ],
   "source": [
    "# The groups_per_user function receives a dictionary, which contains group names with the list of users. \n",
    "# Users can belong to multiple groups. \n",
    "# Fill in the blanks to return a dictionary with the users as keys and a list of their groups as values. \n",
    "\n",
    "def groups_per_user(group_dictionary):\n",
    "    # making user list\n",
    "    user_lst = []\n",
    "    for key in group_dictionary.keys():\n",
    "        i = 0\n",
    "        while (i < len(group_dictionary[key])):\n",
    "            value = group_dictionary[key][i]\n",
    "            if value not in user_lst:\n",
    "                user_lst.append(value)\n",
    "            i += 1\n",
    "    # print(user_lst)\n",
    "    user_groups = {}\n",
    "    lst = []\n",
    "    for elem in user_lst:\n",
    "        for key in group_dictionary.keys():\n",
    "            #print(group_dictionary[key])\n",
    "            if elem in group_dictionary[key]:\n",
    "                lst.append(key)\n",
    "        user_groups[elem] = lst\n",
    "        lst = []\n",
    "    return(user_groups)\n",
    "\n",
    "print(groups_per_user({\"local\": [\"admin\", \"userA\"],\n",
    "\t\t\"public\":  [\"admin\", \"userB\"],\n",
    "\t\t\"administrator\": [\"admin\"] }))"
   ]
  },
  {
   "cell_type": "code",
   "execution_count": 469,
   "metadata": {},
   "outputs": [
    {
     "name": "stdout",
     "output_type": "stream",
     "text": [
      "{'shirt': ['red', 'blue', 'white'], 'jeans': ['white'], 'scarf': ['yellow'], 'socks': ['black', 'brown']}\n"
     ]
    }
   ],
   "source": [
    "wardrobe = {'shirt': ['red', 'blue', 'white'], 'jeans': ['blue', 'black']}\n",
    "new_items = {'jeans': ['white'], 'scarf': ['yellow'], 'socks': ['black', 'brown']}\n",
    "wardrobe.update(new_items)\n",
    "\n",
    "print(wardrobe)"
   ]
  },
  {
   "cell_type": "code",
   "execution_count": 470,
   "metadata": {},
   "outputs": [
    {
     "name": "stdout",
     "output_type": "stream",
     "text": [
      "28.44\n"
     ]
    }
   ],
   "source": [
    "def add_prices(basket):\n",
    "    total_price = 0\n",
    "    for key in groceries.keys():\n",
    "        total_price += groceries[key]\n",
    "    total_price = round(total_price, 2)\n",
    "    return (total_price)\n",
    "\n",
    "groceries = {\"bananas\": 1.56, \"apples\": 2.50, \"oranges\": 0.99, \"bread\": 4.59, \n",
    "\t\"coffee\": 6.99, \"milk\": 3.39, \"eggs\": 2.98, \"cheese\": 5.44}\n",
    "\n",
    "print(add_prices(groceries)) # Should print 28.44\n"
   ]
  },
  {
   "cell_type": "code",
   "execution_count": 471,
   "metadata": {},
   "outputs": [
    {
     "name": "stdout",
     "output_type": "stream",
     "text": [
      "1\n",
      "21\n",
      "6\n",
      "0\n"
     ]
    }
   ],
   "source": [
    "def confirm_length(word):\n",
    "    return (len(word))\n",
    "\n",
    "print(confirm_length(\"a\")) # Should print 1\n",
    "print(confirm_length(\"This is a long string\")) # Should print 21\n",
    "print(confirm_length(\"Monday\")) # Should print 6\n",
    "print(confirm_length(\"\")) # Should print 0"
   ]
  },
  {
   "cell_type": "code",
   "execution_count": 472,
   "metadata": {},
   "outputs": [
    {
     "name": "stdout",
     "output_type": "stream",
     "text": [
      "Have a NICE day\n",
      "Shhh, don't be so LOUD!\n",
      "Automating with Python is FUN\n"
     ]
    }
   ],
   "source": [
    "def highlight_word(sentence, word):\n",
    "    new_sentence = \"\"\n",
    "    index = sentence.index(word)\n",
    "    if (word in sentence):\n",
    "        word = word.upper()\n",
    "    new_sentence = sentence[:index] + word + sentence[index + len(word):]\n",
    "    return (new_sentence)\n",
    "\n",
    "print(highlight_word(\"Have a nice day\", \"nice\"))\n",
    "# Should print: \"Have a NICE day\"\n",
    "print(highlight_word(\"Shhh, don't be so loud!\", \"loud\"))\n",
    "# Should print: \"Shhh, don't be so LOUD!\"\n",
    "print(highlight_word(\"Automating with Python is fun\", \"fun\"))\n",
    "# Should print: \"Automating with Python is FUN\""
   ]
  },
  {
   "cell_type": "code",
   "execution_count": 473,
   "metadata": {},
   "outputs": [
    {
     "name": "stdout",
     "output_type": "stream",
     "text": [
      "['Ahmed', 'Emma', 'Gabriel', 'Imani', 'Jacomo', 'Loik', 'Nia', 'Soraya', 'Uli']\n"
     ]
    }
   ],
   "source": [
    "def alphabetize_lists(list1, list2):\n",
    "    for value in list2:\n",
    "        list1.append(value)\n",
    "    list1.sort() \n",
    "    return (list1)\n",
    "\n",
    "Aniyahs_list = [\"Jacomo\", \"Emma\", \"Uli\", \"Nia\", \"Imani\"]\n",
    "Imanis_list = [\"Loik\", \"Gabriel\", \"Ahmed\", \"Soraya\"]\n",
    "\n",
    "print(alphabetize_lists(Aniyahs_list, Imanis_list))\n",
    "# Should print: ['Ahmed', 'Emma', 'Gabriel', 'Imani', 'Jacomo', 'Loik', 'Nia', 'Soraya', 'Uli']"
   ]
  },
  {
   "cell_type": "code",
   "execution_count": 474,
   "metadata": {},
   "outputs": [
    {
     "name": "stdout",
     "output_type": "stream",
     "text": [
      "[4, 9]\n",
      "[1, 4, 9, 16, 25]\n",
      "[0, 1, 4, 9, 16, 25, 36, 49, 64, 81, 100]\n"
     ]
    }
   ],
   "source": [
    "def squares(start, end):\n",
    "    size = (end - start) + 1\n",
    "    lst = []\n",
    "    for i in range(size):\n",
    "        value = start * start\n",
    "        lst.append(value)\n",
    "        start += 1\n",
    "    return (lst)\n",
    "\n",
    "print(squares(2, 3)) # Should print [4, 9]\n",
    "print(squares(1, 5)) # Should print [1, 4, 9, 16, 25]\n",
    "print(squares(0, 10)) # Should print [0, 1, 4, 9, 16, 25, 36, 49, 64, 81, 100]"
   ]
  },
  {
   "cell_type": "code",
   "execution_count": 475,
   "metadata": {},
   "outputs": [
    {
     "name": "stdout",
     "output_type": "stream",
     "text": [
      "A Kia Soul costs 19000 dollars\n",
      "A Lamborghini Diablo costs 55000 dollars\n",
      "A Ford Fiesta costs 13000 dollars\n",
      "A Toyota Prius costs 24000 dollars\n",
      "\n"
     ]
    }
   ],
   "source": [
    "def car_listing(car_prices):\n",
    "    result = \"\"\n",
    "    for key in car_prices.keys():\n",
    "        price = car_prices[key]\n",
    "        result += \"A {} costs {} dollars\\n\".format(key, price)\n",
    "    return (result)\n",
    "print(car_listing({\"Kia Soul\":19000, \"Lamborghini Diablo\":55000, \"Ford Fiesta\":13000, \"Toyota Prius\":24000}))\n",
    "\n",
    "# Should print:\n",
    "# A Kia Soul costs 19000 dollars\n",
    "# A Lamborghini Diablo costs 55000 dollars\n",
    "# A Ford Fiesta costs 13000 dollars\n",
    "# A Toyota Prius costs 24000 dollars"
   ]
  },
  {
   "cell_type": "code",
   "execution_count": 476,
   "metadata": {},
   "outputs": [
    {
     "name": "stdout",
     "output_type": "stream",
     "text": [
      "{'Adam': 0, 'Camila': 0, 'David': 0, 'Jamal': 0, 'Charley': 0, 'Titus': 0, 'Raj': 0, 'Noemi': 0, 'Sakira': 0, 'Chidi': 0}\n"
     ]
    }
   ],
   "source": [
    "def find_num(name, lst):\n",
    "    num = -1\n",
    "    for elem in lst:\n",
    "        if (name == elem):\n",
    "            num += 1\n",
    "    return (num)\n",
    "\n",
    "\n",
    "def setup_guests(guest_list):\n",
    "    dictionary = {}\n",
    "    lst = []\n",
    "    for name in guest_list:\n",
    "        lst.append(name)\n",
    "    for name in guest_list:    \n",
    "        num = find_num(name, lst)\n",
    "        dictionary[name] = num    \n",
    "    return (dictionary)\n",
    "\n",
    "guests = [\"Adam\",\"Camila\",\"David\",\"Jamal\",\"Charley\",\"Titus\",\"Raj\",\"Noemi\",\"Sakira\",\"Chidi\"]\n",
    "\n",
    "print(setup_guests(guests))\n",
    "# Should print {'Adam': 0, 'Camila': 0, 'David': 0, 'Jamal': 0, 'Charley': 0, 'Titus': 0, 'Raj': 0, 'Noemi': 0, 'Sakira': 0, 'Chidi': 0}"
   ]
  },
  {
   "cell_type": "code",
   "execution_count": 477,
   "metadata": {},
   "outputs": [
    {
     "name": "stdout",
     "output_type": "stream",
     "text": [
      "{'James': 0, 'Felicity': 0, 'Barakaa': 0}\n"
     ]
    }
   ],
   "source": [
    "def setup_gradebook(old_gradebook):\n",
    "    dictionary = {}\n",
    "    for name in fall_gradebook.keys():\n",
    "        dictionary[name] = 0\n",
    "    return (dictionary)\n",
    "fall_gradebook = {\"James\": 93, \"Felicity\": 98, \"Barakaa\": 80}\n",
    "print(setup_gradebook(fall_gradebook))\n",
    "# Should output {'James': 0, 'Felicity': 0, 'Barakaa': 0}\n"
   ]
  },
  {
   "cell_type": "code",
   "execution_count": 478,
   "metadata": {},
   "outputs": [
    {
     "data": {
      "text/plain": [
       "65"
      ]
     },
     "execution_count": 478,
     "metadata": {},
     "output_type": "execute_result"
    }
   ],
   "source": [
    "speed_limits = {\"street\": 35, \"highway\": 65, \"school\": 15}\n",
    "speed_limits[\"highway\"]"
   ]
  },
  {
   "cell_type": "code",
   "execution_count": null,
   "metadata": {},
   "outputs": [],
   "source": [
    "def is_palindrome(str):\n",
    "    str = str.lower().replace(\" \", \"\")\n",
    "    _str = str[::-1]\n",
    "    _str = _str.lower().replace(\" \", \"\")\n",
    "    # print(str)\n",
    "    # print(_str)\n",
    "    if (str == _str):\n",
    "        return (True)\n",
    "    else:\n",
    "        return (False)\n",
    "\n",
    "print(is_palindrome(\"Never Odd or Even\")) # Should be True\n",
    "print(is_palindrome(\"abc\")) # Should be False\n",
    "print(is_palindrome(\"kayak\")) # Should be True"
   ]
  },
  {
   "cell_type": "code",
   "execution_count": null,
   "metadata": {},
   "outputs": [],
   "source": [
    "def convert_distance(miles):\n",
    "    km = miles * 1.6 \n",
    "    result = \"{} miles equals {:.1f} km\".format(miles, km)\n",
    "    return result\n",
    "\n",
    "\n",
    "print(convert_distance(12)) # Should be: 12 miles equals 19.2 km\n",
    "print(convert_distance(5.5)) # Should be: 5.5 miles equals 8.8 km\n",
    "print(convert_distance(11)) # Should be: 11 miles equals 17.6 km"
   ]
  },
  {
   "cell_type": "code",
   "execution_count": null,
   "metadata": {},
   "outputs": [],
   "source": [
    "def nametag(first_name, last_name):\n",
    "    return(\"{} {}.\".format(first_name, last_name[0]))\n",
    "\n",
    "\n",
    "print(nametag(\"Jane\", \"Smith\")) \n",
    "# Should display \"Jane S.\" \n",
    "print(nametag(\"Francesco\", \"Rinaldi\")) \n",
    "# Should display \"Francesco R.\" \n",
    "print(nametag(\"Jean-Luc\", \"Grand-Pierre\")) \n",
    "# Should display \"Jean-Luc G.\" \n"
   ]
  },
  {
   "cell_type": "code",
   "execution_count": null,
   "metadata": {},
   "outputs": [],
   "source": [
    "def replace_ending(sentence, old, new):\n",
    "    pieces = sentence.split()\n",
    "    size = len(pieces)\n",
    "    \n",
    "    if (pieces[size - 1] == old):\n",
    "        i = sentence.rindex(old)\n",
    "        return (sentence[:i] + new)\n",
    "    else:\n",
    "        return (sentence)\n",
    "        \n",
    "print(replace_ending(\"It's raining cats and cats\", \"cats\", \"dogs\")) \n",
    "# Should display \"It's raining cats and dogs\"\n",
    "print(replace_ending(\"She sells seashells by the seashore\", \"seashells\", \"donuts\")) \n",
    "# Should display \"She sells seashells by the seashore\"\n",
    "print(replace_ending(\"The weather is nice in May\", \"may\", \"april\")) \n",
    "# Should display \"The weather is nice in May\"\n",
    "print(replace_ending(\"The weather is nice in May\", \"May\", \"April\")) \n",
    "# Should display \"The weather is nice in April\"\n"
   ]
  }
 ],
 "metadata": {
  "kernelspec": {
   "display_name": "Python 3",
   "language": "python",
   "name": "python3"
  },
  "language_info": {
   "codemirror_mode": {
    "name": "ipython",
    "version": 3
   },
   "file_extension": ".py",
   "mimetype": "text/x-python",
   "name": "python",
   "nbconvert_exporter": "python",
   "pygments_lexer": "ipython3",
   "version": "3.10.0"
  },
  "orig_nbformat": 4,
  "vscode": {
   "interpreter": {
    "hash": "4889f6b7e88051642b0063f87be6ae020a287b021416febcbfe89d4183b1cbca"
   }
  }
 },
 "nbformat": 4,
 "nbformat_minor": 2
}
