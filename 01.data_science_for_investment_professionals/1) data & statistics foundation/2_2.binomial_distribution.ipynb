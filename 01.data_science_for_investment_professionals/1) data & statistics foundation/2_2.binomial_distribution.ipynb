{
 "cells": [
  {
   "cell_type": "code",
   "execution_count": 8,
   "metadata": {},
   "outputs": [],
   "source": [
    "#import library\n",
    "from scipy import stats\n",
    "import numpy as np"
   ]
  },
  {
   "cell_type": "code",
   "execution_count": 9,
   "metadata": {},
   "outputs": [
    {
     "data": {
      "text/plain": [
       "0.0081"
      ]
     },
     "execution_count": 9,
     "metadata": {},
     "output_type": "execute_result"
    }
   ],
   "source": [
    "#k = no.of success\n",
    "#n = no.of trials\n",
    "#p = probability of success\n",
    "\n",
    "k = 3\n",
    "n = 5\n",
    "p = 0.1\n",
    "\n",
    "stats.binom.pmf(k, n, p)"
   ]
  },
  {
   "cell_type": "code",
   "execution_count": 10,
   "metadata": {},
   "outputs": [
    {
     "data": {
      "text/plain": [
       "0.0081"
      ]
     },
     "execution_count": 10,
     "metadata": {},
     "output_type": "execute_result"
    }
   ],
   "source": [
    "stats.binom.pmf(3, 5, 0.1)"
   ]
  },
  {
   "cell_type": "code",
   "execution_count": 11,
   "metadata": {},
   "outputs": [
    {
     "data": {
      "text/plain": [
       "array([5.9049e-01, 3.2805e-01, 7.2900e-02, 8.1000e-03, 4.5000e-04,\n",
       "       1.0000e-05])"
      ]
     },
     "execution_count": 11,
     "metadata": {},
     "output_type": "execute_result"
    }
   ],
   "source": [
    "#calculate probability\n",
    "n = 5\n",
    "p = 0.1\n",
    "k = np.arange(n + 1)\n",
    "stats.binom.pmf(k, n, p)"
   ]
  },
  {
   "attachments": {},
   "cell_type": "markdown",
   "metadata": {},
   "source": [
    "#### Q1\n",
    "\n",
    "##### You have assigned $500 million to a new money manager and believe it is reasonable to expect that they will keep the portfolio return within 75 basis points (0.75%) of the benchmark’s return, on a quarterly basis. You will be satisfied if the manager achieves this 90% of the time. \n",
    "\n",
    "##### The manager meets the objective in six out of eight quarters, which is a 75% success rate. Assuming the manager has the skill you want, what is the probability of the manager producing the result they did? (Please answer in the format 00.0%)."
   ]
  },
  {
   "cell_type": "code",
   "execution_count": 27,
   "metadata": {},
   "outputs": [
    {
     "name": "stdout",
     "output_type": "stream",
     "text": [
      "[0.01024 0.0768  0.2304  0.3456  0.2592  0.07776]\n"
     ]
    }
   ],
   "source": [
    "## tip) calculate the probabilty of achieving 6 or less = p(6) + p(5) + p(4) + p(3) + p(2) + p(1) + p(0).\n",
    "print(stats.binom.pmf([0,1,2,3,4,5], 5, 0.6))"
   ]
  },
  {
   "attachments": {},
   "cell_type": "markdown",
   "metadata": {},
   "source": [
    "#### Q2\n",
    "##### A portfolio manager annually outperforms her benchmark 60% of the time. \n",
    "##### Assuming independent annual trials, what is the probability that she will outperform her benchmark four or more times over the next five years?"
   ]
  },
  {
   "cell_type": "code",
   "execution_count": 25,
   "metadata": {},
   "outputs": [
    {
     "name": "stdout",
     "output_type": "stream",
     "text": [
      "[0.2592  0.07776]\n"
     ]
    },
    {
     "data": {
      "text/plain": [
       "0.3369600000000001"
      ]
     },
     "execution_count": 25,
     "metadata": {},
     "output_type": "execute_result"
    }
   ],
   "source": [
    "print(stats.binom.pmf([4,5], 5, 0.6))\n",
    "sum(stats.binom.pmf([4,5], 5, 0.6))"
   ]
  },
  {
   "cell_type": "markdown",
   "metadata": {},
   "source": []
  }
 ],
 "metadata": {
  "kernelspec": {
   "display_name": "Python 3",
   "language": "python",
   "name": "python3"
  },
  "language_info": {
   "codemirror_mode": {
    "name": "ipython",
    "version": 3
   },
   "file_extension": ".py",
   "mimetype": "text/x-python",
   "name": "python",
   "nbconvert_exporter": "python",
   "pygments_lexer": "ipython3",
   "version": "3.10.0"
  },
  "orig_nbformat": 4,
  "vscode": {
   "interpreter": {
    "hash": "4889f6b7e88051642b0063f87be6ae020a287b021416febcbfe89d4183b1cbca"
   }
  }
 },
 "nbformat": 4,
 "nbformat_minor": 2
}
