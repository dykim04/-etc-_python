{
 "cells": [
  {
   "attachments": {},
   "cell_type": "markdown",
   "metadata": {},
   "source": [
    "1. The intention of this assignment is to practice the calculation of the mean, median and mode using a small data set.\n",
    "2. This assignment is not gradeable - it is for practice only.\n",
    "3. Please follow the instructions.\n",
    "4. The data to use in this assignment is shown below:\n",
    "\n",
    "| Index | Year 1 | Year 2 | Year 3 |\n",
    "| :--- | ---: | ---: | ---: |\n",
    "|Country A  | −15.6  |   −5.4   |   6.1 |\n",
    "|Country B  |  7.8   |   6.3    |  −1.5 |\n",
    "|Country C  |  5.3   |   1.2    |   3.5 |\n",
    "|Country D  | −2.4   |  −3.1    |   6.2 |\n",
    "|Country E  | −4.0   |  −3.0    |   3.0 |\n",
    "|Country F  |  5.3   |   2.3    |  -1.0 |\n",
    "|Country G  | -2.1   |  10.2    |  -1.2 |\n",
    "|Country H  |  1.8   |   5.2    |   3.5 |\n",
    "|Country I  |  3.2   |   1.2    |   3.1 |\n",
    "|Country J  |  4.2   |   2.2    |  -0.9 |\n",
    "|Country K  | -2.2   |   3.4    |   1.2 |"
   ]
  },
  {
   "cell_type": "code",
   "execution_count": 52,
   "metadata": {},
   "outputs": [],
   "source": [
    "import statistics as stat\n",
    "import numpy as np"
   ]
  },
  {
   "cell_type": "code",
   "execution_count": 53,
   "metadata": {},
   "outputs": [],
   "source": [
    "data_y1 = [-15.6, 7.8, 5.3, -2.4, -4.0, 5.3, -2.1, 1.8, 3.2, 4.2, -2.2]\n",
    "data_y2 = [-5.4, 6.3, 1.2, -3.1, -3.0, 2.3, 10.2, 5.2, 1.2, 2.2, 3.4]\n",
    "data_y3 = [6.1, -1.5, 3.5, 6.2, 3.0, -1.0, -1.2, 3.5, 3.1, -0.9, 1.2]"
   ]
  },
  {
   "attachments": {},
   "cell_type": "markdown",
   "metadata": {},
   "source": [
    "#### TASK 1\n",
    "Calculate, using 'statistics', the median and mode of countries A to K for Year 1."
   ]
  },
  {
   "cell_type": "code",
   "execution_count": 54,
   "metadata": {},
   "outputs": [
    {
     "name": "stdout",
     "output_type": "stream",
     "text": [
      "1.8 5.3\n"
     ]
    }
   ],
   "source": [
    "y1_median = stat.median(data_y1)\n",
    "y1_mode = stat.mode(data_y1)\n",
    "\n",
    "print(y1_median, y1_mode)"
   ]
  },
  {
   "attachments": {},
   "cell_type": "markdown",
   "metadata": {},
   "source": [
    "#### TASK 2\n",
    "\n",
    "Calculate, using 'numpy', the median of countries A to K for Years 2 and 3. Let data2 = data for year 2 and data3 = data for year 3."
   ]
  },
  {
   "cell_type": "code",
   "execution_count": 55,
   "metadata": {},
   "outputs": [
    {
     "name": "stdout",
     "output_type": "stream",
     "text": [
      "2.2 3.0\n"
     ]
    }
   ],
   "source": [
    "data2 = np.median(data_y2)\n",
    "data3 = np.median(data_y3)\n",
    "\n",
    "print(data2, data3)"
   ]
  },
  {
   "attachments": {},
   "cell_type": "markdown",
   "metadata": {},
   "source": [
    "#### TASK 3\n",
    "\n",
    "Calculate, using 'statistics' the mean, median and mode for countries A to K for Year 3"
   ]
  },
  {
   "cell_type": "code",
   "execution_count": 56,
   "metadata": {},
   "outputs": [
    {
     "name": "stdout",
     "output_type": "stream",
     "text": [
      "2.0 3.0 3.5\n"
     ]
    }
   ],
   "source": [
    "mean_y3 = stat.mean(data_y3)\n",
    "median_y3 = stat.median(data_y3)\n",
    "mode_y3 = stat.mode(data_y3)\n",
    "\n",
    "print(mean_y3, median_y3, mode_y3)"
   ]
  }
 ],
 "metadata": {
  "kernelspec": {
   "display_name": "Python 3",
   "language": "python",
   "name": "python3"
  },
  "language_info": {
   "codemirror_mode": {
    "name": "ipython",
    "version": 3
   },
   "file_extension": ".py",
   "mimetype": "text/x-python",
   "name": "python",
   "nbconvert_exporter": "python",
   "pygments_lexer": "ipython3",
   "version": "3.10.0"
  },
  "orig_nbformat": 4,
  "vscode": {
   "interpreter": {
    "hash": "4889f6b7e88051642b0063f87be6ae020a287b021416febcbfe89d4183b1cbca"
   }
  }
 },
 "nbformat": 4,
 "nbformat_minor": 2
}
