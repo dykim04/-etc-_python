{
 "cells": [
  {
   "attachments": {},
   "cell_type": "markdown",
   "metadata": {},
   "source": [
    "1. The intention of this assignment is to practice the calculation of different means using a small data set. \n",
    "2. This assignment is not gradeable - it is for practice only. \n",
    "3. Please follow the instructions. \n",
    "4. The data to use for task 1 and task 2 is shown below:\n",
    "\n",
    "\n",
    "|Stock   |   P/E |\n",
    "| :---: | ---: |\n",
    "|  1    |   22.29 |\n",
    "|  2    |   15.54 |\n",
    "|  3    |    9.38 |\n",
    "|  4    |   15.12 |\n",
    "|  5    |   10.72 |\n",
    "|  6    |   14.57 |\n",
    "|  7    |    7.20 |\n",
    "|  8    |    7.97 |\n",
    "|  9    |   10.34 |\n",
    "| 10    |    8.35 |"
   ]
  },
  {
   "cell_type": "code",
   "execution_count": 9,
   "metadata": {},
   "outputs": [],
   "source": [
    "import numpy as np\n",
    "from numpy import average\n",
    "import statistics as stat"
   ]
  },
  {
   "cell_type": "code",
   "execution_count": 40,
   "metadata": {},
   "outputs": [],
   "source": [
    "data = [22.29, 15.54, 9.38, 15.12, 10.72, 14.57, 7.20, 7.97, 10.34, 8.35]"
   ]
  },
  {
   "attachments": {},
   "cell_type": "markdown",
   "metadata": {},
   "source": [
    "#### TASK 1\n",
    "\n",
    "Using 'statistics' calculate the arithmetic mean P/E\n",
    "\n",
    "NOTE: Let's introduce rounding. To round the answer to (for example) 2 decimal places use the print function: print(round(X,2)) rather than simply: print(X)"
   ]
  },
  {
   "cell_type": "code",
   "execution_count": 41,
   "metadata": {},
   "outputs": [
    {
     "name": "stdout",
     "output_type": "stream",
     "text": [
      "12.15\n"
     ]
    }
   ],
   "source": [
    "pe_mean = stat.mean(data)\n",
    "pe_mean = round(pe_mean, 2)\n",
    "print (pe_mean)"
   ]
  },
  {
   "cell_type": "code",
   "execution_count": 42,
   "metadata": {},
   "outputs": [
    {
     "name": "stdout",
     "output_type": "stream",
     "text": [
      "11.428698826467857\n"
     ]
    }
   ],
   "source": [
    "geo_mean = stat.geometric_mean(data)\n",
    "print(geo_mean)"
   ]
  },
  {
   "attachments": {},
   "cell_type": "markdown",
   "metadata": {},
   "source": [
    "#### TASK 2\n",
    "\n",
    "Using 'statistics' calculate the harmonic mean P/E. Please round to two decimal places as shown in Task 1."
   ]
  },
  {
   "cell_type": "code",
   "execution_count": 6,
   "metadata": {},
   "outputs": [
    {
     "name": "stdout",
     "output_type": "stream",
     "text": [
      "10.81\n"
     ]
    }
   ],
   "source": [
    "h_mean = stat.harmonic_mean(data)\n",
    "h_mean = round(h_mean, 2)\n",
    "print (h_mean)"
   ]
  },
  {
   "attachments": {},
   "cell_type": "markdown",
   "metadata": {},
   "source": [
    "#### TASK 3 \n",
    "\n",
    "Using 'numpy' calculate the weighted mean return using the data in the table shown below. Study the example in the lesson and adapt it to this data. \n",
    "\n",
    "The key line of code to calculate the weighted mean will be: weighted_avg_m3=round(average(distribution,weights=weight),2) but first distribution and weight will have to be defined e.g.distribution(return)=(X1,X2,X3), weight(weighting)=(X1,X2,X3).\n",
    "\n",
    "\n",
    "|weighting|return|\n",
    "|:---:|:---:|\n",
    "|25%|1.2%|\n",
    "|45%|6.7%|\n",
    "|30%|3.4%|"
   ]
  },
  {
   "cell_type": "code",
   "execution_count": 34,
   "metadata": {},
   "outputs": [
    {
     "name": "stdout",
     "output_type": "stream",
     "text": [
      "4.34\n"
     ]
    }
   ],
   "source": [
    "distribution = (1.2, 6.7, 3.4)\n",
    "weight = (0.25, 0.45, 0.30)\n",
    "\n",
    "weighted_avg_m3 = average(distribution, weights=weight)\n",
    "print(round(weighted_avg_m3, 2))"
   ]
  },
  {
   "cell_type": "code",
   "execution_count": 44,
   "metadata": {},
   "outputs": [
    {
     "name": "stdout",
     "output_type": "stream",
     "text": [
      "6.25\n"
     ]
    }
   ],
   "source": [
    "distribution = (8.0, 12.0, -3.0, 4.0)\n",
    "weight = (0.2, 0.4, 0.25, 0.15)\n",
    "\n",
    "weighted_avg_m3 = average(distribution, weights=weight)\n",
    "print(round(weighted_avg_m3, 2))"
   ]
  }
 ],
 "metadata": {
  "kernelspec": {
   "display_name": "Python 3",
   "language": "python",
   "name": "python3"
  },
  "language_info": {
   "codemirror_mode": {
    "name": "ipython",
    "version": 3
   },
   "file_extension": ".py",
   "mimetype": "text/x-python",
   "name": "python",
   "nbconvert_exporter": "python",
   "pygments_lexer": "ipython3",
   "version": "3.10.0"
  },
  "orig_nbformat": 4,
  "vscode": {
   "interpreter": {
    "hash": "4889f6b7e88051642b0063f87be6ae020a287b021416febcbfe89d4183b1cbca"
   }
  }
 },
 "nbformat": 4,
 "nbformat_minor": 2
}
