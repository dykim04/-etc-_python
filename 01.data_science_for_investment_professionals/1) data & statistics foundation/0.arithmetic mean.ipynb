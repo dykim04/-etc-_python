{
 "cells": [
  {
   "cell_type": "code",
   "execution_count": 51,
   "metadata": {},
   "outputs": [
    {
     "name": "stdout",
     "output_type": "stream",
     "text": [
      "-1.78\n"
     ]
    }
   ],
   "source": [
    "import statistics\n",
    "\n",
    "data = [-15.6, 7.8, 5.3, -2.4, -4.0]\n",
    "x = statistics.mean(data)\n",
    "print(x)"
   ]
  },
  {
   "cell_type": "code",
   "execution_count": 52,
   "metadata": {},
   "outputs": [
    {
     "name": "stdout",
     "output_type": "stream",
     "text": [
      "-1.78\n"
     ]
    }
   ],
   "source": [
    "import numpy as np\n",
    "\n",
    "data = [-15.6, 7.8, 5.3, -2.4, -4.0]\n",
    "x = np.mean(data)\n",
    "print(x)"
   ]
  },
  {
   "attachments": {},
   "cell_type": "markdown",
   "metadata": {},
   "source": [
    "1. The intention of this assignment is to practice the calculation of the mean using a small data set.\n",
    "2. This assignment is not gradeable - it is for practice only.\n",
    "3. Please follow the instructions.\n",
    "4. The data to use in this assignment is shown below.\n",
    "\n",
    "    | Index  | Year 1 | Year 2 | Year 3 |\n",
    "    | :--- |  ---: |  ---: |  ---: |\n",
    "    | Country A | 3.5 | 6.3 | 3.3 |\n",
    "    | Country B |-1.2 | 1.4 | -0.9|\n",
    "    | Country C | 2.1 | 4.2 | 2.4 |\n",
    "    | Country D |-1.4 | 3.1 | 1.6 |\n",
    "    | Country E | 2.6 |-1.5 | 2.2 |"
   ]
  },
  {
   "attachments": {},
   "cell_type": "markdown",
   "metadata": {},
   "source": [
    "#### TASK 1\n",
    "Using 'statistics' calculate the arithmetic mean of the five countries' returns for year 1"
   ]
  },
  {
   "cell_type": "code",
   "execution_count": 53,
   "metadata": {},
   "outputs": [
    {
     "name": "stdout",
     "output_type": "stream",
     "text": [
      "1.12\n"
     ]
    }
   ],
   "source": [
    "import statistics as stat\n",
    "\n",
    "data = [3.5, -1.2, 2.1, -1.4, 2.6]\n",
    "res = stat.mean(data)\n",
    "print(res)"
   ]
  },
  {
   "attachments": {},
   "cell_type": "markdown",
   "metadata": {},
   "source": [
    "#### TASK 2\n",
    "Using 'numpy' calculate the arithmetic mean of the five countries' returns for year 2"
   ]
  },
  {
   "cell_type": "code",
   "execution_count": 54,
   "metadata": {},
   "outputs": [
    {
     "name": "stdout",
     "output_type": "stream",
     "text": [
      "2.6999999999999997\n"
     ]
    }
   ],
   "source": [
    "import numpy as np\n",
    "\n",
    "data = [6.3, 1.4, 4.2, 3.1, -1.5]\n",
    "x = np.mean(data)\n",
    "print(x)"
   ]
  },
  {
   "attachments": {},
   "cell_type": "markdown",
   "metadata": {},
   "source": [
    "#### TASK 3\n",
    "Using 'statistics' calculate the arithmetic mean of the five countries' returns for all three years.\n",
    "Let data1=data for year 1, data2=data for year 2 and data3=data for year 3."
   ]
  },
  {
   "cell_type": "code",
   "execution_count": 55,
   "metadata": {},
   "outputs": [
    {
     "name": "stdout",
     "output_type": "stream",
     "text": [
      "1.12\n",
      "2.7\n",
      "1.72\n"
     ]
    }
   ],
   "source": [
    "import statistics as stat\n",
    "\n",
    "data1 = [3.5, -1.2, 2.1, -1.4, 2.6]\n",
    "data2 = [6.3, 1.4, 4.2, 3.1, -1.5]\n",
    "data3 = [3.3, -0.9, 2.4, 1.6, 2.2]\n",
    "\n",
    "i = 1\n",
    "while (i < 4):\n",
    "    if (i == 1):\n",
    "        res = stat.mean(data1)\n",
    "    if (i == 2):\n",
    "        res = stat.mean(data2)\n",
    "    if (i == 3):\n",
    "        res = stat.mean(data3)\n",
    "    print(res)\n",
    "    i = i + 1"
   ]
  }
 ],
 "metadata": {
  "kernelspec": {
   "display_name": "Python 3",
   "language": "python",
   "name": "python3"
  },
  "language_info": {
   "codemirror_mode": {
    "name": "ipython",
    "version": 3
   },
   "file_extension": ".py",
   "mimetype": "text/x-python",
   "name": "python",
   "nbconvert_exporter": "python",
   "pygments_lexer": "ipython3",
   "version": "3.10.0"
  },
  "orig_nbformat": 4,
  "vscode": {
   "interpreter": {
    "hash": "4889f6b7e88051642b0063f87be6ae020a287b021416febcbfe89d4183b1cbca"
   }
  }
 },
 "nbformat": 4,
 "nbformat_minor": 2
}
