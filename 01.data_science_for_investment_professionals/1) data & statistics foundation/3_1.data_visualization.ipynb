{
 "cells": [
  {
   "cell_type": "markdown",
   "metadata": {},
   "source": [
    "1. The intention of this assignment is to practice creating histograms and bar charts\n",
    "\n",
    "2. This assignment is not gradeable - it is for practice only.\n",
    "\n",
    "3. Please follow the instructions."
   ]
  },
  {
   "cell_type": "markdown",
   "metadata": {},
   "source": [
    "#### TASK 1\n",
    "Using matplotlib.pyplot and the data in an excel spreadsheet labelled 'Course 1 Module 4', sheet name 'Histogram' and column headed 'Index Return' (which has the daily stock returns for the last 1000 trading days) create a histogram with 20 bins."
   ]
  },
  {
   "cell_type": "code",
   "execution_count": null,
   "metadata": {},
   "outputs": [
    {
     "data": {
      "image/png": "[encoded data removed]",
      "text/plain": [
       "<Figure size 432x288 with 1 Axes>"
      ]
     },
     "metadata": {
      "needs_background": "light"
     },
     "output_type": "display_data"
    }
   ],
   "source": [
    "import pandas as pd\n",
    "import matplotlib.pyplot as plt\n",
    "data=pd.read_excel(\"Course 1 Module 4.xlsx\",sheet_name=\"Histogram\")\n",
    "plt.hist(data['Index Return'], bins=20)\n",
    "plt.show()"
   ]
  },
  {
   "cell_type": "code",
   "execution_count": 3,
   "metadata": {
    "deletable": false,
    "editable": false,
    "nbgrader": {
     "cell_type": "code",
     "checksum": "d5a600e623070a2e455e8dcd0890d497",
     "grade": false,
     "grade_id": "instructor-histogram",
     "locked": true,
     "schema_version": 3,
     "solution": false,
     "task": false
    },
    "solution2": "hidden"
   },
   "outputs": [
    {
     "data": {
      "image/png": "[encoded data removed]",
      "text/plain": [
       "<Figure size 432x288 with 1 Axes>"
      ]
     },
     "metadata": {
      "needs_background": "light"
     },
     "output_type": "display_data"
    }
   ],
   "source": [
    "import pandas as pd\n",
    "import matplotlib.pyplot as plt\n",
    "data=pd.read_excel(\"Course 1 Module 4.xlsx\",sheet_name=\"Histogram\")\n",
    "plt.hist(data['Index Return'],bins=20)\n",
    "plt.show()"
   ]
  },
  {
   "cell_type": "markdown",
   "metadata": {},
   "source": [
    "#### TASK 2\n",
    "Using matplotlib.pyplot and the data in an excel spreadsheet labelled 'Course 1 Module 4', sheet name 'Bar Chart' (which has a portfolio's stock allocation, shown in a column headed 'Freq', to six sectors, shown in a column headed 'Sector') a bar chart showing the portfolio's stock allocation."
   ]
  },
  {
   "cell_type": "code",
   "execution_count": 4,
   "metadata": {},
   "outputs": [
    {
     "data": {
      "image/png": "[encoded data removed]",
      "text/plain": [
       "<Figure size 432x288 with 1 Axes>"
      ]
     },
     "metadata": {
      "needs_background": "light"
     },
     "output_type": "display_data"
    }
   ],
   "source": [
    "import pandas as pd\n",
    "import matplotlib.pyplot as plt\n",
    "data=pd.read_excel(\"Course 1 Module 4.xlsx\",sheet_name=\"Bar Chart\")\n",
    "sector=data['Sector']\n",
    "frequency=data['Freq']\n",
    "plt.bar(sector,frequency)\n",
    "plt.show()"
   ]
  },
  {
   "cell_type": "code",
   "execution_count": 5,
   "metadata": {
    "deletable": false,
    "editable": false,
    "nbgrader": {
     "cell_type": "code",
     "checksum": "7e2d19bd66698e3bb1cc57d88ea63998",
     "grade": false,
     "grade_id": "instructor-bar-chart",
     "locked": true,
     "schema_version": 3,
     "solution": false,
     "task": false
    },
    "solution2": "hidden"
   },
   "outputs": [
    {
     "data": {
      "image/png": "[encoded data removed]",
      "text/plain": [
       "<Figure size 432x288 with 1 Axes>"
      ]
     },
     "metadata": {
      "needs_background": "light"
     },
     "output_type": "display_data"
    }
   ],
   "source": [
    "import pandas as pd\n",
    "import matplotlib.pyplot as plt\n",
    "data=pd.read_excel(\"Course 1 Module 4.xlsx\",sheet_name=\"Bar Chart\")\n",
    "sector=data['Sector']\n",
    "frequency=data['Freq']\n",
    "plt.bar(sector,frequency)\n",
    "plt.show()"
   ]
  },
  {
   "cell_type": "markdown",
   "metadata": {},
   "source": [
    "#### TASK 3\n",
    "Repeat the above but select a different color for each sector.\n",
    "NOTE: Not all colors might be recognised so keep trying - its a bit of trial and error."
   ]
  },
  {
   "cell_type": "code",
   "execution_count": 6,
   "metadata": {},
   "outputs": [
    {
     "data": {
      "image/png": "[encoded data removed]",
      "text/plain": [
       "<Figure size 432x288 with 1 Axes>"
      ]
     },
     "metadata": {
      "needs_background": "light"
     },
     "output_type": "display_data"
    }
   ],
   "source": [
    "import pandas as pd\n",
    "import matplotlib.pyplot as plt\n",
    "data=pd.read_excel(\"Course 1 Module 4.xlsx\",sheet_name=\"Bar Chart\")\n",
    "sector=data['Sector']\n",
    "frequency=data['Freq']\n",
    "plt.bar(sector,frequency,color=['orange','blue','grey','pink','red','green'])\n",
    "plt.show()"
   ]
  },
  {
   "cell_type": "code",
   "execution_count": null,
   "metadata": {
    "deletable": false,
    "editable": false,
    "nbgrader": {
     "cell_type": "code",
     "checksum": "86df7262f461c3492f6cbd80db1a0904",
     "grade": false,
     "grade_id": "instructor-color-bar-chart",
     "locked": true,
     "schema_version": 3,
     "solution": false,
     "task": false
    },
    "solution2": "hidden"
   },
   "outputs": [],
   "source": [
    "import pandas as pd\n",
    "import matplotlib.pyplot as plt\n",
    "data=pd.read_excel(\"Course 1 Module 4.xlsx\",sheet_name=\"Bar Chart\")\n",
    "sector=data['Sector']\n",
    "frequency=data['Freq']\n",
    "plt.bar(sector,frequency,color=['orange','blue','grey','pink','red','green'])\n",
    "plt.show()"
   ]
  }
 ],
 "metadata": {
  "kernelspec": {
   "display_name": "Python 3",
   "language": "python",
   "name": "python3"
  },
  "language_info": {
   "codemirror_mode": {
    "name": "ipython",
    "version": 3
   },
   "file_extension": ".py",
   "mimetype": "text/x-python",
   "name": "python",
   "nbconvert_exporter": "python",
   "pygments_lexer": "ipython3",
   "version": "3.7.6"
  }
 },
 "nbformat": 4,
 "nbformat_minor": 5
}
