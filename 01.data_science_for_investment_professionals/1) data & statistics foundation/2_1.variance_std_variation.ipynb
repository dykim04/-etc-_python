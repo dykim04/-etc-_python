{
 "cells": [
  {
   "attachments": {},
   "cell_type": "markdown",
   "metadata": {},
   "source": [
    "1. The intention of this assignment is to practice the calculation of the variance and standard deviation using a small data set. \n",
    "2. This assignment is not gradeable - it is for practice only. \n",
    "3. Please follow the instructions. \n",
    "4. The data to use in this assignment is shown below\n",
    "\n",
    "| Index   |   Year 1 | Year 2  | Year 3 |\n",
    "| :---: | :---: | :---: | :---: |\n",
    "| Country A |  3.5  |   6.3   |   3.3 |\n",
    "| Country B | -1.2  |   1.4   |  -0.9 |\n",
    "| Country C | 2.1   |   4.2   |   2.4 |\n",
    "| Country D | -1.4  |   3.1   |   1.6 |\n",
    "| Country E |  2.6  |  -1.3   |   2.2 |\n",
    "| Country F |  1.8  |   3.5   |  -1.2 |\n",
    "| Country G |  2.4  |   2.2   |   1.8 |\n",
    "| Country H |  3.1  |   2.4   |   2.0 |"
   ]
  },
  {
   "cell_type": "code",
   "execution_count": 1,
   "metadata": {},
   "outputs": [],
   "source": [
    "import statistics as stat\n",
    "import numpy as np\n",
    "\n",
    "data_y1 = [3.5, -1.2, 2.1, -1.4, 2.6, 1.8, 2.4, 3.1]\n",
    "data_y2 = [6.3, 1.4, 4.2, 3.1, -1.3, 3.5, 2.2, 2.4]\n",
    "data_y3 = [3.3, -0.9, 2.4, 1.6, 2.2, -1.2, 1.8, 2.0]"
   ]
  },
  {
   "attachments": {},
   "cell_type": "markdown",
   "metadata": {},
   "source": [
    "#### TASK 1\n",
    "\n",
    "Using 'statistics' calculate the variance and standard deviation of the eight country indices for year 1. \n",
    "\n",
    "NOTE: Please round the answers to two decimal places by using the print command; print(round(x,2),round(y,2)) where x and y are the results to be printed. "
   ]
  },
  {
   "cell_type": "code",
   "execution_count": 2,
   "metadata": {},
   "outputs": [
    {
     "name": "stdout",
     "output_type": "stream",
     "text": [
      "3.52\n",
      "1.88\n"
     ]
    }
   ],
   "source": [
    "y1_std_dev = stat.stdev(data_y1)\n",
    "y1_std_dev = round(y1_std_dev, 2)\n",
    "\n",
    "y1_var = stat.variance(data_y1)\n",
    "y1_var = round(y1_var, 2)\n",
    "\n",
    "print(y1_var)\n",
    "print(y1_std_dev)"
   ]
  },
  {
   "attachments": {},
   "cell_type": "markdown",
   "metadata": {},
   "source": [
    "#### TASK 2\n",
    "\n",
    "Using 'statistics' calculate the variance and standard deviation of the eight country indices for years 2 and 3. \n",
    "\n",
    "Let data2=data for year 2 and data3=data for year 3. Please round all answers to two decimal points as shown in task 1."
   ]
  },
  {
   "cell_type": "code",
   "execution_count": 3,
   "metadata": {},
   "outputs": [
    {
     "name": "stdout",
     "output_type": "stream",
     "text": [
      "4.86\n",
      "2.21\n",
      "2.55\n",
      "1.6\n"
     ]
    }
   ],
   "source": [
    "y2_std_dev = stat.stdev(data_y2)\n",
    "y2_std_dev = round(y2_std_dev, 2)\n",
    "\n",
    "y3_std_dev = stat.stdev(data_y3)\n",
    "y3_std_dev = round(y3_std_dev, 2)\n",
    "\n",
    "y2_var = stat.variance(data_y2)\n",
    "y2_var = round(y2_var, 2)\n",
    "\n",
    "y3_var = stat.variance(data_y3)\n",
    "y3_var = round(y3_var, 2)\n",
    "\n",
    "print(y2_var)\n",
    "print(y2_std_dev)\n",
    "\n",
    "print(y3_var)\n",
    "print(y3_std_dev)"
   ]
  },
  {
   "attachments": {},
   "cell_type": "markdown",
   "metadata": {},
   "source": [
    "#### TASK 3\n",
    "Annual returns and summary statistics for three funds are listed in the following table:\n",
    "\n",
    "| Year   |   Fund ABC | Fund XYZ | Fund PQR |\n",
    "| :---: | :---: | :---: | :---: |\n",
    "| 1 |  -20.0  |   -33.0   |   -14.0 |\n",
    "| 2 | 23.0  |   -12.0   |  -18.0 |\n",
    "| 3 | -14.0  |   -12.0   |   6.0 |\n",
    "| 4 | 5.0 |   -8.0   |   -2.0 |\n",
    "| 5 |  -14.0  |  11.0   |   3.0 |\n",
    "| Mean |  -4.0  |   -10.8   |  -5.0 |\n",
    "| Standard Deviation |  17.8  |   15.6   |   10.5 |\n",
    "\n",
    "The fund with the highest absolute dispersion is:\n",
    "\n",
    "a) Fund PQR if the measure of dispersion is the range.\n",
    "\n",
    "b) Fund XYZ if the measure of dispersion is the variance.\n",
    "\n",
    "c) Fund ABC if the measure of dispersion is the mean absolute deviation."
   ]
  },
  {
   "cell_type": "code",
   "execution_count": 4,
   "metadata": {},
   "outputs": [],
   "source": [
    "# data_ref\n",
    "abc = [-20, 23, -14, 5, -14, -4, 17.8]\n",
    "xyz= [-33, -12, -12, -8, 11, -10.8, 15.6]\n",
    "pqr = [-14, -18, 6, -2, 3, -5, 10.5]"
   ]
  },
  {
   "cell_type": "code",
   "execution_count": 5,
   "metadata": {},
   "outputs": [
    {
     "name": "stdout",
     "output_type": "stream",
     "text": [
      "43 48.6 28.5\n"
     ]
    },
    {
     "data": {
      "text/plain": [
       "'range_xyz'"
      ]
     },
     "execution_count": 5,
     "metadata": {},
     "output_type": "execute_result"
    }
   ],
   "source": [
    "# a) Fund PQR if the measure of dispersion is the range\n",
    "\n",
    "# measure of dispersion = range\n",
    "range_abc = max(abc) - min(abc)\n",
    "range_xyz = max(xyz) - min(xyz)\n",
    "range_pqr = max(pqr) - min(pqr)\n",
    "\n",
    "print(range_abc, range_xyz, range_pqr)\n",
    "\n",
    "variable = {range_abc: \"range_abc\", range_xyz: \"range_xyz\", range_pqr: \"range_pqr\"}\n",
    "variable.get(max(variable))"
   ]
  },
  {
   "cell_type": "code",
   "execution_count": 6,
   "metadata": {},
   "outputs": [
    {
     "name": "stdout",
     "output_type": "stream",
     "text": [
      "278.8914285714286 262.69904761904763 108.32142857142857\n"
     ]
    },
    {
     "data": {
      "text/plain": [
       "'var_abc'"
      ]
     },
     "execution_count": 6,
     "metadata": {},
     "output_type": "execute_result"
    }
   ],
   "source": [
    "# b) Fund XYZ if the measure of dispersion is the variance\n",
    "\n",
    "# measure of dispersion = variance\n",
    "var_abc = stat.variance(abc)\n",
    "var_xyz = stat.variance(xyz)\n",
    "var_pqr = stat.variance(pqr)\n",
    "\n",
    "print(var_abc, var_xyz, var_pqr)\n",
    "variable = {var_abc: \"var_abc\", var_xyz: \"var_xyz\", var_pqr: \"var_pqr\"}\n",
    "variable.get(max(variable))"
   ]
  },
  {
   "cell_type": "code",
   "execution_count": 7,
   "metadata": {},
   "outputs": [
    {
     "name": "stdout",
     "output_type": "stream",
     "text": [
      "16.700042771544886 16.20799332487053 10.40775809535505\n"
     ]
    },
    {
     "data": {
      "text/plain": [
       "'abs_dev_abc'"
      ]
     },
     "execution_count": 7,
     "metadata": {},
     "output_type": "execute_result"
    }
   ],
   "source": [
    "# c) Fund ABC if the measure of dispersion is the mean absolute deviation.\n",
    "\n",
    "# measure of dispersion = absolute deviation\n",
    "abs_dev_abc = abs(stat.stdev(abc))\n",
    "abs_dev_xyz = abs(stat.stdev(xyz))\n",
    "abs_dev_pqr = abs(stat.stdev(pqr))\n",
    "\n",
    "print(abs_dev_abc, abs_dev_xyz, abs_dev_pqr)\n",
    "variable = {abs_dev_abc: \"abs_dev_abc\", abs_dev_xyz: \"abs_dev_xyz\", abs_dev_pqr: \"abs_dev_pqr\"}\n",
    "variable.get(max(variable))"
   ]
  },
  {
   "attachments": {},
   "cell_type": "markdown",
   "metadata": {},
   "source": [
    "#### TASK 4\n",
    "The mean monthly return and the standard deviation for three industry sectors are shown in the following table:\n",
    "\n",
    "| Sector   | Mean Montly Return (%) | Standard Deviation of Return (%) |\n",
    "| :---------: | :-----------: | :-----------: |\n",
    "| Utilities(UTIL) |  2.10  |   1.23   | \n",
    "| Materials(MATR) | 1.25  |   1.35   |\n",
    "| Industrials(INDU) | 3.01  |   1.52   |\n",
    "\n",
    "Based on the coefficient of variation, the riskiest sector is:"
   ]
  },
  {
   "cell_type": "code",
   "execution_count": 8,
   "metadata": {},
   "outputs": [
    {
     "name": "stdout",
     "output_type": "stream",
     "text": [
      "0.5857142857142856\n",
      "1.08\n",
      "0.504983388704319\n"
     ]
    },
    {
     "data": {
      "text/plain": [
       "'coefficient_var_MATR'"
      ]
     },
     "execution_count": 8,
     "metadata": {},
     "output_type": "execute_result"
    }
   ],
   "source": [
    "# Coefficient of variation -> used to compare the variation of different data sets\n",
    "# Standard deviation -> to measure the dispersion of data in a single data set\n",
    "\n",
    "from dataclasses import dataclass\n",
    "\n",
    "class industry_sector:\n",
    "    mean_return: float = None\n",
    "    stdev_return: float = None\n",
    "\n",
    "UTIL = industry_sector()\n",
    "UTIL.mean_return = 2.10\n",
    "UTIL.stdev_return = 1.23\n",
    "\n",
    "MATR = industry_sector()\n",
    "MATR.mean_return = 1.25\n",
    "MATR.stdev_return = 1.35\n",
    "\n",
    "INDU = industry_sector()\n",
    "INDU.mean_return = 3.01\n",
    "INDU.stdev_return = 1.52\n",
    "\n",
    "data = [0 for i in range (3)]\n",
    "data[0] = UTIL.stdev_return / UTIL.mean_return\n",
    "data[1] = MATR.stdev_return / MATR.mean_return\n",
    "data[2] = INDU.stdev_return / INDU.mean_return\n",
    "\n",
    "i = 0\n",
    "while (i < 3):\n",
    "    print(data[i])\n",
    "    i += 1\n",
    "\n",
    "variable = {data[0]: \"coefficient_var_UTIL\", data[1]: \"coefficient_var_MATR\", data[2]: \"coefficient_var_INDU\"}\n",
    "variable.get(max(variable))"
   ]
  },
  {
   "attachments": {},
   "cell_type": "markdown",
   "metadata": {},
   "source": [
    "#### TASK 5\n",
    "\n",
    "A fund had the following experience over the past 10 years:\n",
    "\n",
    "| Year         |     Return      |\n",
    "| :---------:  | :-----------:   |\n",
    "| 1            |      4.5%       | \n",
    "| 2            |      6.0%       |\n",
    "| 3            |      1.5%       |\n",
    "| 4            |      -2.0%      |\n",
    "| 5            |      0.0%       |\n",
    "| 6            |      4.5%       |\n",
    "| 7            |      3.5%       |\n",
    "| 8            |      2.5%       |\n",
    "| 9            |      5.5%       |\n",
    "| 10           |      4.0%       |\n",
    "\n",
    "The standard deviation of the 10 years of returns is closest to:"
   ]
  },
  {
   "cell_type": "code",
   "execution_count": 9,
   "metadata": {},
   "outputs": [
    {
     "name": "stdout",
     "output_type": "stream",
     "text": [
      "2.53\n"
     ]
    }
   ],
   "source": [
    "return_ref = [4.5, 6.0, 1.5, -2.0, 0.0, 4.5, 3.5, 2.5, 5.5, 4.0]\n",
    "std_dev = stat.stdev(return_ref)\n",
    "std_dev = round(std_dev, 2)\n",
    "print(std_dev)"
   ]
  },
  {
   "cell_type": "code",
   "execution_count": null,
   "metadata": {},
   "outputs": [],
   "source": []
  }
 ],
 "metadata": {
  "kernelspec": {
   "display_name": "Python 3",
   "language": "python",
   "name": "python3"
  },
  "language_info": {
   "codemirror_mode": {
    "name": "ipython",
    "version": 3
   },
   "file_extension": ".py",
   "mimetype": "text/x-python",
   "name": "python",
   "nbconvert_exporter": "python",
   "pygments_lexer": "ipython3",
   "version": "3.10.0"
  },
  "orig_nbformat": 4,
  "vscode": {
   "interpreter": {
    "hash": "4889f6b7e88051642b0063f87be6ae020a287b021416febcbfe89d4183b1cbca"
   }
  }
 },
 "nbformat": 4,
 "nbformat_minor": 2
}
