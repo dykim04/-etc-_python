{
 "cells": [
  {
   "attachments": {},
   "cell_type": "markdown",
   "metadata": {},
   "source": [
    "1. The intention of this assignment is to practice the calculation of the variance and standard deviation using a small data set. \n",
    "2. This assignment is not gradeable - it is for practice only. \n",
    "3. Please follow the instructions. \n",
    "4. The data to use in this assignment is shown below\n",
    "\n",
    "| Index   |   Year 1 | Year 2  | Year 3 |\n",
    "| :---: | :---: | :---: | :---: |\n",
    "| Country A |  3.5  |   6.3   |   3.3 |\n",
    "| Country B | -1.2  |   1.4   |  -0.9 |\n",
    "| Country C | 2.1   |   4.2   |   2.4 |\n",
    "| Country D | -1.4  |   3.1   |   1.6 |\n",
    "| Country E |  2.6  |  -1.3   |   2.2 |\n",
    "| Country F |  1.8  |   3.5   |  -1.2 |\n",
    "| Country G |  2.4  |   2.2   |   1.8 |\n",
    "| Country H |  3.1  |   2.4   |   2.0 |"
   ]
  },
  {
   "cell_type": "code",
   "execution_count": 18,
   "metadata": {},
   "outputs": [],
   "source": [
    "import statistics as stat\n",
    "import numpy as np\n",
    "\n",
    "data_y1 = [3.5, -1.2, 2.1, -1.4, 2.6, 1.8, 2.4, 3.1]\n",
    "data_y2 = [6.3, 1.4, 4.2, 3.1, -1.3, 3.5, 2.2, 2.4]\n",
    "data_y3 = [3.3, -0.9, 2.4, 1.6, 2.2, -1.2, 1.8, 2.0]"
   ]
  },
  {
   "attachments": {},
   "cell_type": "markdown",
   "metadata": {},
   "source": [
    "#### TASK 1\n",
    "\n",
    "Using 'statistics' calculate the variance and standard deviation of the eight country indices for year 1. \n",
    "\n",
    "NOTE: Please round the answers to two decimal places by using the print command; print(round(x,2),round(y,2)) where x and y are the results to be printed. "
   ]
  },
  {
   "cell_type": "code",
   "execution_count": 19,
   "metadata": {},
   "outputs": [
    {
     "name": "stdout",
     "output_type": "stream",
     "text": [
      "3.52\n",
      "1.88\n"
     ]
    }
   ],
   "source": [
    "y1_std_dev = stat.stdev(data_y1)\n",
    "y1_std_dev = round(y1_std_dev, 2)\n",
    "\n",
    "y1_var = stat.variance(data_y1)\n",
    "y1_var = round(y1_var, 2)\n",
    "\n",
    "print(y1_var)\n",
    "print(y1_std_dev)"
   ]
  },
  {
   "attachments": {},
   "cell_type": "markdown",
   "metadata": {},
   "source": [
    "#### TASK 2\n",
    "\n",
    "Using 'statistics' calculate the variance and standard deviation of the eight country indices for years 2 and 3. \n",
    "\n",
    "Let data2=data for year 2 and data3=data for year 3. Please round all answers to two decimal points as shown in task 1."
   ]
  },
  {
   "cell_type": "code",
   "execution_count": 20,
   "metadata": {},
   "outputs": [
    {
     "name": "stdout",
     "output_type": "stream",
     "text": [
      "4.86\n",
      "2.21\n",
      "2.55\n",
      "1.6\n"
     ]
    }
   ],
   "source": [
    "y2_std_dev = stat.stdev(data_y2)\n",
    "y2_std_dev = round(y2_std_dev, 2)\n",
    "\n",
    "y3_std_dev = stat.stdev(data_y3)\n",
    "y3_std_dev = round(y3_std_dev, 2)\n",
    "\n",
    "y2_var = stat.variance(data_y2)\n",
    "y2_var = round(y2_var, 2)\n",
    "\n",
    "y3_var = stat.variance(data_y3)\n",
    "y3_var = round(y3_var, 2)\n",
    "\n",
    "print(y2_var)\n",
    "print(y2_std_dev)\n",
    "\n",
    "print(y3_var)\n",
    "print(y3_std_dev)"
   ]
  }
 ],
 "metadata": {
  "kernelspec": {
   "display_name": "Python 3",
   "language": "python",
   "name": "python3"
  },
  "language_info": {
   "codemirror_mode": {
    "name": "ipython",
    "version": 3
   },
   "file_extension": ".py",
   "mimetype": "text/x-python",
   "name": "python",
   "nbconvert_exporter": "python",
   "pygments_lexer": "ipython3",
   "version": "3.10.0"
  },
  "orig_nbformat": 4,
  "vscode": {
   "interpreter": {
    "hash": "4889f6b7e88051642b0063f87be6ae020a287b021416febcbfe89d4183b1cbca"
   }
  }
 },
 "nbformat": 4,
 "nbformat_minor": 2
}
