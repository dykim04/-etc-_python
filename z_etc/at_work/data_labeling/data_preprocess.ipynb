{
 "cells": [
  {
   "cell_type": "code",
   "execution_count": 142,
   "metadata": {},
   "outputs": [],
   "source": [
    "from stdio import ingredients\n",
    "from difflib import get_close_matches\n",
    "import math"
   ]
  },
  {
   "cell_type": "code",
   "execution_count": 143,
   "metadata": {},
   "outputs": [
    {
     "name": "stdout",
     "output_type": "stream",
     "text": [
      "미네랄오일,트라이에틸헥사노안,에틸헥실팔미테이트,솔베스-30테트라아이소스테아레이트,아이소도데케인,피이지-20글리세릴트라이아이소스테아레이트,비에이치티,정제수,테트라하이드록시프로필에틸렌다이아민,토코페롤\n"
     ]
    }
   ],
   "source": [
    "# \"\"\" (검사하고 싶은 성분 목록 입력) \"\"\"\n",
    "# 성분 목록은 반드시 쉼표(,)로 구분되어야 함\n",
    "# 빈칸 공란 등은 확인해줄 필요 없음 \n",
    "\n",
    "string =\"\"\"\n",
    "\n",
    "\n",
    "\n",
    "\n",
    "\n",
    "미네랄오일,트라이에틸헥사노안,에틸헥실팔미테이트,솔베스-30테트라아이소스테아레이트,아이소도데케인,피이지-20글리세릴트라이아이소스테아레이트,비에이치티,정제수,테트라하이드록시프로필에틸렌다이아민,토코페롤\n",
    "\n",
    "\n",
    "\n",
    "\n",
    "\n",
    "\n",
    "\n",
    "\"\"\"\n",
    "string_final = string.replace(\"。\", \",\").replace(\"，\", \",\").replace(\" \", \"\").replace(\".\",\"\").replace(\"|\",\"\").replace(\"\\n\", \"\").replace(\"'\", \"\").replace(\"\\\"\", \"\").strip()\n",
    "raw_data = [string_final] # \"정제수,글리세린,스테아릭애씨드,미리스틱애씨드,라우릭애씨드,포타슘하이드록사이드,솔비탄올리베이트,포타슘코코일글리시네이트,글리세릴스테아레이트,참나리추출물,12-헥산다이올,카프릴릴글라이콜,황기뿌리추출물。아세틸헥사펩타이드-8(01ppm),살구씨오일。알란토인,카퍼트라이펩타이드-1(0001ppm),에틸헥실글리세린,다이포타슘글리시리제이트,부틸렌글라이콜,펜틸렌글라이콜,루이보스추출물,피이지-100스테아레이트,스페인감초뿌리추출물,모하비유카뿌리추출물,몰약수지추출물,소엽잎추출물,향료\"\n",
    "test = raw_data[0].split(',')\n",
    "print(string_final)\n",
    "#print(test)\n"
   ]
  },
  {
   "cell_type": "code",
   "execution_count": 144,
   "metadata": {},
   "outputs": [
    {
     "name": "stdout",
     "output_type": "stream",
     "text": [
      "미네랄오일, \n",
      "트라이에틸헥사노안, =====>> (2/10)  ['트라이에틸헥사노인', '트라이데실에틸헥사노에이트'] \n",
      "에틸헥실팔미테이트, \n",
      "솔베스-30테트라아이소스테아레이트, \n",
      "아이소도데케인, \n",
      "피이지-20글리세릴트라이아이소스테아레이트, \n",
      "비에이치티, \n",
      "정제수, \n",
      "테트라하이드록시프로필에틸렌다이아민, \n",
      "토코페롤 \n"
     ]
    }
   ],
   "source": [
    "\n",
    "def correct_list(word):\n",
    "    word = test[i]\n",
    "    n = 3\n",
    "    cutoff = 0.7\n",
    "    close_matches = get_close_matches(word, ingredients, n , cutoff)\n",
    "    print(\"%s, =====>> (%d/%d)  %s \" %(test[i], i + 1, len(test), close_matches))\n",
    "\n",
    "# 마지막 단어 전까지 출력\n",
    "for i in range(len(test) - 1):\n",
    "    if (len(test[i]) == 0):\n",
    "        continue\n",
    "    if test[i] in (ingredients):\n",
    "        print(\"%s, \" %test[i])\n",
    "    if test[i] not in (ingredients):\n",
    "        # print(\"%s : ----> check \" %test[i])\n",
    "        word = test[i]\n",
    "        correct_list(word)\n",
    "\n",
    "# 마지막 단어 출력 시 쉼표 제거\n",
    "if test[i + 1] in (ingredients):\n",
    "    print(\"%s \" %test[i + 1])\n",
    "elif test[i + 1] not in (ingredients):\n",
    "    # print(\"%s : ----> check \" %test[i + 1])\n",
    "    word = test[i + 1]\n",
    "    correct_list(word)\n"
   ]
  },
  {
   "cell_type": "code",
   "execution_count": 145,
   "metadata": {},
   "outputs": [
    {
     "name": "stdout",
     "output_type": "stream",
     "text": [
      "미네랄오일 : OK\n",
      "트라이에틸헥사노안 : ------>>>>> 2 / 10\n",
      "에틸헥실팔미테이트 : OK\n",
      "솔베스-30테트라아이소스테아레이트 : OK\n",
      "아이소도데케인 : OK\n",
      "피이지-20글리세릴트라이아이소스테아레이트 : OK\n",
      "비에이치티 : OK\n",
      "정제수 : OK\n",
      "테트라하이드록시프로필에틸렌다이아민 : OK\n",
      "토코페롤 : OK\n"
     ]
    }
   ],
   "source": [
    "for i in range(len(test)):\n",
    "    if test[i] == '1' and test[i + 1] == ('2-헥산디올' or '2-헥산다이올'):\n",
    "        print(\"%s : OK\" %test[i])\n",
    "    elif test[i] != ('2-헥산디올' or '2-헥산다이올')  and test[i] in ingredients:\n",
    "        print(\"%s : OK\" %test[i])\n",
    "    else:\n",
    "        print(\"%s : ------>>>>> %d / %d\" %(test[i],i+1,len(test)))"
   ]
  }
 ],
 "metadata": {
  "kernelspec": {
   "display_name": "Python 3",
   "language": "python",
   "name": "python3"
  },
  "language_info": {
   "codemirror_mode": {
    "name": "ipython",
    "version": 3
   },
   "file_extension": ".py",
   "mimetype": "text/x-python",
   "name": "python",
   "nbconvert_exporter": "python",
   "pygments_lexer": "ipython3",
   "version": "3.10.0"
  },
  "orig_nbformat": 4,
  "vscode": {
   "interpreter": {
    "hash": "4889f6b7e88051642b0063f87be6ae020a287b021416febcbfe89d4183b1cbca"
   }
  }
 },
 "nbformat": 4,
 "nbformat_minor": 2
}
