{
 "cells": [
  {
   "cell_type": "code",
   "execution_count": null,
   "metadata": {},
   "outputs": [],
   "source": [
    "from selenium import webdriver\n",
    "\n",
    "\n",
    "driver = webdriver.Chrome(\"./chromedriver\")\n"
   ]
  },
  {
   "cell_type": "code",
   "execution_count": null,
   "metadata": {},
   "outputs": [],
   "source": [
    "url = \"https://www.investing.com/search/?q=futures&tab=quotes\"\n",
    "driver.get(url)"
   ]
  },
  {
   "cell_type": "code",
   "execution_count": null,
   "metadata": {},
   "outputs": [],
   "source": [
    "popup_xpath = \"/html/body/div[7]/div[2]/i\"\n",
    "popup = driver.find_element_by_xpath(popup_xpath)"
   ]
  },
  {
   "cell_type": "code",
   "execution_count": null,
   "metadata": {},
   "outputs": [],
   "source": [
    "popup.click()"
   ]
  },
  {
   "cell_type": "code",
   "execution_count": null,
   "metadata": {},
   "outputs": [],
   "source": [
    "import time\n",
    "\n",
    "# while scrolling down, duplicate quotes can be caught\n",
    "quotes = set()\n",
    "\n",
    "height = 0\n",
    "scroll = 200\n",
    "start_time = time.time()\n",
    "while True:\n",
    "    height += scroll\n",
    "    driver.execute_script(f\"window.scrollTo(0, {height});\")\n",
    "    time.sleep(0.5)\n",
    "\n",
    "    quote_xpath = \"/html/body/div[5]/section/div/div[3]/div[3]/div/a/span[2]\"\n",
    "    for quote in driver.find_elements_by_xpath(quote_xpath):\n",
    "        start_time = time.time()\n",
    "        quotes.add(quote.text)\n",
    "\n",
    "    print(f\"Number of quotes: {len(quotes)}\", end=\"\\r\")\n",
    "\n",
    "    if time.time() - start_time > 30:\n",
    "        break\n",
    "    "
   ]
  },
  {
   "cell_type": "code",
   "execution_count": null,
   "metadata": {},
   "outputs": [],
   "source": [
    "import pandas as pd\n",
    "\n",
    "df = pd.DataFrame(quotes)\n",
    "df.head()"
   ]
  },
  {
   "cell_type": "code",
   "execution_count": null,
   "metadata": {},
   "outputs": [],
   "source": [
    "df.to_excel(\"quotes.xlsx\")"
   ]
  },
  {
   "cell_type": "code",
   "execution_count": null,
   "metadata": {},
   "outputs": [],
   "source": [
    "import time\n",
    "\n",
    "height = 0\n",
    "scroll = 100\n",
    "num_quote = -1\n",
    "start_time = time.time()\n",
    "while True:\n",
    "    height += scroll\n",
    "    driver.execute_script(f\"window.scrollTo(0, {height});\")\n",
    "    time.sleep(0.5)\n",
    "\n",
    "    quote_xpath = \"/html/body/div[5]/section/div/div[3]/div[3]/div/a/span[2]\"\n",
    "    if num_quote != len(driver.find_elements_by_xpath(quote_xpath)):\n",
    "        start_time = time.time()\n",
    "        num_quote = len(driver.find_elements_by_xpath(quote_xpath))\n",
    "\n",
    "    print(f\"Number of quotes: {num_quote}\", end=\"\\r\")\n",
    "\n",
    "    if time.time() - start_time > 30:\n",
    "        break\n",
    "\n",
    "quotes = {}\n",
    "\n",
    "rows = driver.find_elements_by_xpath(\n",
    "    \"/html/body/div[5]/section/div/div[3]/div[3]/div/a\"\n",
    ")\n",
    "for row in rows:\n",
    "    spans = row.find_elements_by_xpath(\"./span\")\n",
    "    quote = spans[1].text\n",
    "    name = spans[2].text\n",
    "    description = spans[3].text\n",
    "\n",
    "    quotes[quote] = {\"quote\": quote, \"name\": name, \"description\": description}\n"
   ]
  }
 ],
 "metadata": {
  "kernelspec": {
   "display_name": "Python 3",
   "language": "python",
   "name": "python3"
  },
  "language_info": {
   "codemirror_mode": {
    "name": "ipython",
    "version": 3
   },
   "file_extension": ".py",
   "mimetype": "text/x-python",
   "name": "python",
   "nbconvert_exporter": "python",
   "pygments_lexer": "ipython3",
   "version": "3.10.0"
  },
  "orig_nbformat": 4,
  "vscode": {
   "interpreter": {
    "hash": "4889f6b7e88051642b0063f87be6ae020a287b021416febcbfe89d4183b1cbca"
   }
  }
 },
 "nbformat": 4,
 "nbformat_minor": 2
}
